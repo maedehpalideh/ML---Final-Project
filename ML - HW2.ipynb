{
 "cells": [
  {
   "cell_type": "markdown",
   "metadata": {},
   "source": [
    "### Estimation of obesity levels based on eating habits and physical condition"
   ]
  },
  {
   "cell_type": "code",
   "execution_count": 1,
   "metadata": {},
   "outputs": [],
   "source": [
    "import pandas as pd\n",
    "import numpy as np\n",
    "import sklearn as skl\n",
    "from sklearn import preprocessing\n",
    "from sklearn.model_selection import train_test_split"
   ]
  },
  {
   "cell_type": "code",
   "execution_count": 2,
   "metadata": {},
   "outputs": [],
   "source": [
    "from sklearn.metrics import confusion_matrix\n",
    "from sklearn.metrics import accuracy_score"
   ]
  },
  {
   "cell_type": "code",
   "execution_count": 3,
   "metadata": {},
   "outputs": [],
   "source": [
    "import seaborn as sns\n",
    "import matplotlib.pyplot as plt"
   ]
  },
  {
   "cell_type": "code",
   "execution_count": 4,
   "metadata": {},
   "outputs": [],
   "source": [
    "import statistics \n",
    "from sklearn import preprocessing\n",
    "from sklearn import svm\n",
    "from sklearn.model_selection import StratifiedKFold,cross_val_score\n",
    "from sklearn.neighbors import KNeighborsClassifier\n",
    "from sklearn.metrics import classification_report, confusion_matrix\n",
    "from sklearn.naive_bayes import GaussianNB\n",
    "from sklearn.model_selection import KFold\n",
    "from sklearn.model_selection import cross_val_score"
   ]
  },
  {
   "cell_type": "code",
   "execution_count": 5,
   "metadata": {},
   "outputs": [],
   "source": [
    "df= pd.read_csv(r'C:\\Users\\Maedeh\\Downloads\\ObesityDataSet_raw_and_data_sinthetic.csv')"
   ]
  },
  {
   "cell_type": "code",
   "execution_count": 6,
   "metadata": {},
   "outputs": [
    {
     "data": {
      "text/html": [
       "<div>\n",
       "<style scoped>\n",
       "    .dataframe tbody tr th:only-of-type {\n",
       "        vertical-align: middle;\n",
       "    }\n",
       "\n",
       "    .dataframe tbody tr th {\n",
       "        vertical-align: top;\n",
       "    }\n",
       "\n",
       "    .dataframe thead th {\n",
       "        text-align: right;\n",
       "    }\n",
       "</style>\n",
       "<table border=\"1\" class=\"dataframe\">\n",
       "  <thead>\n",
       "    <tr style=\"text-align: right;\">\n",
       "      <th></th>\n",
       "      <th>Gender</th>\n",
       "      <th>Age</th>\n",
       "      <th>Height</th>\n",
       "      <th>Weight</th>\n",
       "      <th>family_history_with_overweight</th>\n",
       "      <th>FAVC</th>\n",
       "      <th>FCVC</th>\n",
       "      <th>NCP</th>\n",
       "      <th>CAEC</th>\n",
       "      <th>SMOKE</th>\n",
       "      <th>CH2O</th>\n",
       "      <th>SCC</th>\n",
       "      <th>FAF</th>\n",
       "      <th>TUE</th>\n",
       "      <th>CALC</th>\n",
       "      <th>MTRANS</th>\n",
       "      <th>NObeyesdad</th>\n",
       "    </tr>\n",
       "  </thead>\n",
       "  <tbody>\n",
       "    <tr>\n",
       "      <td>0</td>\n",
       "      <td>Female</td>\n",
       "      <td>21.0</td>\n",
       "      <td>1.62</td>\n",
       "      <td>64.0</td>\n",
       "      <td>yes</td>\n",
       "      <td>no</td>\n",
       "      <td>2.0</td>\n",
       "      <td>3.0</td>\n",
       "      <td>Sometimes</td>\n",
       "      <td>no</td>\n",
       "      <td>2.0</td>\n",
       "      <td>no</td>\n",
       "      <td>0.0</td>\n",
       "      <td>1.0</td>\n",
       "      <td>no</td>\n",
       "      <td>Public_Transportation</td>\n",
       "      <td>Normal_Weight</td>\n",
       "    </tr>\n",
       "    <tr>\n",
       "      <td>1</td>\n",
       "      <td>Female</td>\n",
       "      <td>21.0</td>\n",
       "      <td>1.52</td>\n",
       "      <td>56.0</td>\n",
       "      <td>yes</td>\n",
       "      <td>no</td>\n",
       "      <td>3.0</td>\n",
       "      <td>3.0</td>\n",
       "      <td>Sometimes</td>\n",
       "      <td>yes</td>\n",
       "      <td>3.0</td>\n",
       "      <td>yes</td>\n",
       "      <td>3.0</td>\n",
       "      <td>0.0</td>\n",
       "      <td>Sometimes</td>\n",
       "      <td>Public_Transportation</td>\n",
       "      <td>Normal_Weight</td>\n",
       "    </tr>\n",
       "    <tr>\n",
       "      <td>2</td>\n",
       "      <td>Male</td>\n",
       "      <td>23.0</td>\n",
       "      <td>1.80</td>\n",
       "      <td>77.0</td>\n",
       "      <td>yes</td>\n",
       "      <td>no</td>\n",
       "      <td>2.0</td>\n",
       "      <td>3.0</td>\n",
       "      <td>Sometimes</td>\n",
       "      <td>no</td>\n",
       "      <td>2.0</td>\n",
       "      <td>no</td>\n",
       "      <td>2.0</td>\n",
       "      <td>1.0</td>\n",
       "      <td>Frequently</td>\n",
       "      <td>Public_Transportation</td>\n",
       "      <td>Normal_Weight</td>\n",
       "    </tr>\n",
       "    <tr>\n",
       "      <td>3</td>\n",
       "      <td>Male</td>\n",
       "      <td>27.0</td>\n",
       "      <td>1.80</td>\n",
       "      <td>87.0</td>\n",
       "      <td>no</td>\n",
       "      <td>no</td>\n",
       "      <td>3.0</td>\n",
       "      <td>3.0</td>\n",
       "      <td>Sometimes</td>\n",
       "      <td>no</td>\n",
       "      <td>2.0</td>\n",
       "      <td>no</td>\n",
       "      <td>2.0</td>\n",
       "      <td>0.0</td>\n",
       "      <td>Frequently</td>\n",
       "      <td>Walking</td>\n",
       "      <td>Overweight_Level_I</td>\n",
       "    </tr>\n",
       "    <tr>\n",
       "      <td>4</td>\n",
       "      <td>Male</td>\n",
       "      <td>22.0</td>\n",
       "      <td>1.78</td>\n",
       "      <td>89.8</td>\n",
       "      <td>no</td>\n",
       "      <td>no</td>\n",
       "      <td>2.0</td>\n",
       "      <td>1.0</td>\n",
       "      <td>Sometimes</td>\n",
       "      <td>no</td>\n",
       "      <td>2.0</td>\n",
       "      <td>no</td>\n",
       "      <td>0.0</td>\n",
       "      <td>0.0</td>\n",
       "      <td>Sometimes</td>\n",
       "      <td>Public_Transportation</td>\n",
       "      <td>Overweight_Level_II</td>\n",
       "    </tr>\n",
       "  </tbody>\n",
       "</table>\n",
       "</div>"
      ],
      "text/plain": [
       "   Gender   Age  Height  Weight family_history_with_overweight FAVC  FCVC  \\\n",
       "0  Female  21.0    1.62    64.0                            yes   no   2.0   \n",
       "1  Female  21.0    1.52    56.0                            yes   no   3.0   \n",
       "2    Male  23.0    1.80    77.0                            yes   no   2.0   \n",
       "3    Male  27.0    1.80    87.0                             no   no   3.0   \n",
       "4    Male  22.0    1.78    89.8                             no   no   2.0   \n",
       "\n",
       "   NCP       CAEC SMOKE  CH2O  SCC  FAF  TUE        CALC  \\\n",
       "0  3.0  Sometimes    no   2.0   no  0.0  1.0          no   \n",
       "1  3.0  Sometimes   yes   3.0  yes  3.0  0.0   Sometimes   \n",
       "2  3.0  Sometimes    no   2.0   no  2.0  1.0  Frequently   \n",
       "3  3.0  Sometimes    no   2.0   no  2.0  0.0  Frequently   \n",
       "4  1.0  Sometimes    no   2.0   no  0.0  0.0   Sometimes   \n",
       "\n",
       "                  MTRANS           NObeyesdad  \n",
       "0  Public_Transportation        Normal_Weight  \n",
       "1  Public_Transportation        Normal_Weight  \n",
       "2  Public_Transportation        Normal_Weight  \n",
       "3                Walking   Overweight_Level_I  \n",
       "4  Public_Transportation  Overweight_Level_II  "
      ]
     },
     "execution_count": 6,
     "metadata": {},
     "output_type": "execute_result"
    }
   ],
   "source": [
    "df.head()"
   ]
  },
  {
   "cell_type": "markdown",
   "metadata": {},
   "source": [
    "The dataset contains 16 variables. 15 features:\n",
    "Gender\n",
    "Age\n",
    "Height\n",
    "Weight\n",
    "Family History with Overweight\n",
    "Attributes related with eating habits (6)\n",
    "Attributes related with the physical condition (4)\n",
    "1 target:\n",
    "NObeyesdad, renamed NObesity\n",
    "Another revelant information is that most of these variables are category, except for Age, Height and Weight."
   ]
  },
  {
   "cell_type": "markdown",
   "metadata": {},
   "source": [
    "we want to classify individuals according to their obesity level which will be named: NObesity\n",
    "There are 7 variables:\n",
    "Insufficient_Weight/\n",
    "Normal_Weight/\n",
    "Overweight_Level_I/\n",
    "Overweight_Level_II/\n",
    "Obesity_Type_I/\n",
    "Obesity_Type_II/\n",
    "Obesity_Type_III"
   ]
  },
  {
   "cell_type": "markdown",
   "metadata": {},
   "source": [
    "### Data Cleaning"
   ]
  },
  {
   "cell_type": "code",
   "execution_count": 7,
   "metadata": {},
   "outputs": [
    {
     "name": "stdout",
     "output_type": "stream",
     "text": [
      "(2111, 17) (2111, 17)\n"
     ]
    }
   ],
   "source": [
    "df_clean = df.dropna()\n",
    "print(df_clean.shape, df.shape)"
   ]
  },
  {
   "cell_type": "markdown",
   "metadata": {},
   "source": [
    "#### there is no missing value in our dataset!"
   ]
  },
  {
   "cell_type": "markdown",
   "metadata": {},
   "source": [
    "We will check if we have outliers for non-categorical variables(Age, Height and Weight) or not. The study has been done with subjects between 14 and 61, so there is not a problem with it."
   ]
  },
  {
   "cell_type": "code",
   "execution_count": 8,
   "metadata": {},
   "outputs": [
    {
     "data": {
      "text/plain": [
       "<matplotlib.axes._subplots.AxesSubplot at 0x29b61b27cc8>"
      ]
     },
     "execution_count": 8,
     "metadata": {},
     "output_type": "execute_result"
    },
    {
     "data": {
      "image/png": "[encoded data removed]",
      "text/plain": [
       "<Figure size 432x288 with 1 Axes>"
      ]
     },
     "metadata": {
      "needs_background": "light"
     },
     "output_type": "display_data"
    }
   ],
   "source": [
    "sns.boxplot(x=df['Height'])"
   ]
  },
  {
   "cell_type": "code",
   "execution_count": 9,
   "metadata": {},
   "outputs": [
    {
     "data": {
      "text/plain": [
       "<matplotlib.axes._subplots.AxesSubplot at 0x29b61e54dc8>"
      ]
     },
     "execution_count": 9,
     "metadata": {},
     "output_type": "execute_result"
    },
    {
     "data": {
      "image/png": "[encoded data removed]",
      "text/plain": [
       "<Figure size 432x288 with 1 Axes>"
      ]
     },
     "metadata": {
      "needs_background": "light"
     },
     "output_type": "display_data"
    }
   ],
   "source": [
    "sns.boxplot(x=df['Weight'])"
   ]
  },
  {
   "cell_type": "markdown",
   "metadata": {},
   "source": [
    "we will exclude the extreme values by using quantile values."
   ]
  },
  {
   "cell_type": "code",
   "execution_count": 10,
   "metadata": {},
   "outputs": [],
   "source": [
    "df_categorized = df.copy()"
   ]
  },
  {
   "cell_type": "code",
   "execution_count": 11,
   "metadata": {},
   "outputs": [
    {
     "data": {
      "text/plain": [
       "(2109, 17)"
      ]
     },
     "execution_count": 11,
     "metadata": {},
     "output_type": "execute_result"
    }
   ],
   "source": [
    "q1, q2 = df_categorized[\"Height\"].quantile(q=0.25), df_categorized[\"Height\"].quantile(q=0.75)\n",
    "q3, q4 = df_categorized[\"Weight\"].quantile(q=0.25), df_categorized[\"Weight\"].quantile(q=0.75)\n",
    "\n",
    "IQR1, IQR2 = q2-q1, q4-q3\n",
    "\n",
    "#Height selection\n",
    "df_categorized = df_categorized[df_categorized[\"Height\"] >  q1 - 1.5*IQR1]\n",
    "df_categorized = df_categorized[df_categorized[\"Height\"] <  q2 + 1.5*IQR1]\n",
    "\n",
    "#Weight selection\n",
    "df_categorized = df_categorized[df_categorized[\"Weight\"] >  q3 - 1.5*IQR2]\n",
    "df_categorized = df_categorized[df_categorized[\"Weight\"] <  q4 + 1.5*IQR2]\n",
    "\n",
    "df_categorized.shape"
   ]
  },
  {
   "cell_type": "markdown",
   "metadata": {},
   "source": [
    "3 lines were deleted."
   ]
  },
  {
   "cell_type": "code",
   "execution_count": 12,
   "metadata": {},
   "outputs": [
    {
     "data": {
      "text/html": [
       "<style  type=\"text/css\" >\n",
       "    #T_4f291c52_f2d4_11ec_9fe4_708bcdde023arow0_col1 {\n",
       "            width:  10em;\n",
       "             height:  80%;\n",
       "            background:  linear-gradient(90deg,#606ff2 27.5%, transparent 27.5%);\n",
       "        }    #T_4f291c52_f2d4_11ec_9fe4_708bcdde023arow0_col2 {\n",
       "            background-color:  #c8dcf0;\n",
       "            color:  #000000;\n",
       "        }    #T_4f291c52_f2d4_11ec_9fe4_708bcdde023arow0_col5 {\n",
       "            background-color:  #c1d9ed;\n",
       "            color:  #000000;\n",
       "        }    #T_4f291c52_f2d4_11ec_9fe4_708bcdde023arow1_col1 {\n",
       "            width:  10em;\n",
       "             height:  80%;\n",
       "            background:  linear-gradient(90deg,#606ff2 1.2%, transparent 1.2%);\n",
       "        }    #T_4f291c52_f2d4_11ec_9fe4_708bcdde023arow1_col2 {\n",
       "            background-color:  #f7fbff;\n",
       "            color:  #000000;\n",
       "        }    #T_4f291c52_f2d4_11ec_9fe4_708bcdde023arow1_col5 {\n",
       "            background-color:  #f5f9fe;\n",
       "            color:  #000000;\n",
       "        }    #T_4f291c52_f2d4_11ec_9fe4_708bcdde023arow2_col1 {\n",
       "            width:  10em;\n",
       "             height:  80%;\n",
       "            background:  linear-gradient(90deg,#606ff2 100.0%, transparent 100.0%);\n",
       "        }    #T_4f291c52_f2d4_11ec_9fe4_708bcdde023arow2_col2 {\n",
       "            background-color:  #08306b;\n",
       "            color:  #f1f1f1;\n",
       "        }    #T_4f291c52_f2d4_11ec_9fe4_708bcdde023arow2_col5 {\n",
       "            background-color:  #08306b;\n",
       "            color:  #f1f1f1;\n",
       "        }    #T_4f291c52_f2d4_11ec_9fe4_708bcdde023arow3_col1 {\n",
       "            width:  10em;\n",
       "             height:  80%;\n",
       "            background:  linear-gradient(90deg,#606ff2 2.0%, transparent 2.0%);\n",
       "        }    #T_4f291c52_f2d4_11ec_9fe4_708bcdde023arow3_col2 {\n",
       "            background-color:  #f4f9fe;\n",
       "            color:  #000000;\n",
       "        }    #T_4f291c52_f2d4_11ec_9fe4_708bcdde023arow3_col5 {\n",
       "            background-color:  #f3f8fe;\n",
       "            color:  #000000;\n",
       "        }    #T_4f291c52_f2d4_11ec_9fe4_708bcdde023arow4_col1 {\n",
       "            width:  10em;\n",
       "             height:  80%;\n",
       "            background:  linear-gradient(90deg,#606ff2 2.4%, transparent 2.4%);\n",
       "        }    #T_4f291c52_f2d4_11ec_9fe4_708bcdde023arow4_col2 {\n",
       "            background-color:  #f2f8fd;\n",
       "            color:  #000000;\n",
       "        }    #T_4f291c52_f2d4_11ec_9fe4_708bcdde023arow4_col5 {\n",
       "            background-color:  #f2f7fd;\n",
       "            color:  #000000;\n",
       "        }    #T_4f291c52_f2d4_11ec_9fe4_708bcdde023arow5_col1 {\n",
       "            width:  10em;\n",
       "             height:  80%;\n",
       "            background:  linear-gradient(90deg,#606ff2 1.6%, transparent 1.6%);\n",
       "        }    #T_4f291c52_f2d4_11ec_9fe4_708bcdde023arow5_col2 {\n",
       "            background-color:  #f3f8fe;\n",
       "            color:  #000000;\n",
       "        }    #T_4f291c52_f2d4_11ec_9fe4_708bcdde023arow5_col5 {\n",
       "            background-color:  #f4f9fe;\n",
       "            color:  #000000;\n",
       "        }    #T_4f291c52_f2d4_11ec_9fe4_708bcdde023arow6_col1 {\n",
       "            width:  10em;\n",
       "             height:  80%;\n",
       "            background:  linear-gradient(90deg,#606ff2 0.4%, transparent 0.4%);\n",
       "        }    #T_4f291c52_f2d4_11ec_9fe4_708bcdde023arow6_col2 {\n",
       "            background-color:  #f2f7fd;\n",
       "            color:  #000000;\n",
       "        }    #T_4f291c52_f2d4_11ec_9fe4_708bcdde023arow6_col5 {\n",
       "            background-color:  #f6faff;\n",
       "            color:  #000000;\n",
       "        }    #T_4f291c52_f2d4_11ec_9fe4_708bcdde023arow7_col1 {\n",
       "            width:  10em;\n",
       "             height:  80%;\n",
       "        }    #T_4f291c52_f2d4_11ec_9fe4_708bcdde023arow7_col2 {\n",
       "            background-color:  #f3f8fe;\n",
       "            color:  #000000;\n",
       "        }    #T_4f291c52_f2d4_11ec_9fe4_708bcdde023arow7_col5 {\n",
       "            background-color:  #f7fbff;\n",
       "            color:  #000000;\n",
       "        }</style><table id=\"T_4f291c52_f2d4_11ec_9fe4_708bcdde023a\" ><thead>    <tr>        <th class=\"blank level0\" ></th>        <th class=\"col_heading level0 col0\" >count</th>        <th class=\"col_heading level0 col1\" >mean</th>        <th class=\"col_heading level0 col2\" >std</th>        <th class=\"col_heading level0 col3\" >min</th>        <th class=\"col_heading level0 col4\" >25%</th>        <th class=\"col_heading level0 col5\" >50%</th>        <th class=\"col_heading level0 col6\" >75%</th>        <th class=\"col_heading level0 col7\" >max</th>    </tr></thead><tbody>\n",
       "                <tr>\n",
       "                        <th id=\"T_4f291c52_f2d4_11ec_9fe4_708bcdde023alevel0_row0\" class=\"row_heading level0 row0\" >Age</th>\n",
       "                        <td id=\"T_4f291c52_f2d4_11ec_9fe4_708bcdde023arow0_col0\" class=\"data row0 col0\" >2111</td>\n",
       "                        <td id=\"T_4f291c52_f2d4_11ec_9fe4_708bcdde023arow0_col1\" class=\"data row0 col1\" >24.3126</td>\n",
       "                        <td id=\"T_4f291c52_f2d4_11ec_9fe4_708bcdde023arow0_col2\" class=\"data row0 col2\" >6.34597</td>\n",
       "                        <td id=\"T_4f291c52_f2d4_11ec_9fe4_708bcdde023arow0_col3\" class=\"data row0 col3\" >14</td>\n",
       "                        <td id=\"T_4f291c52_f2d4_11ec_9fe4_708bcdde023arow0_col4\" class=\"data row0 col4\" >19.9472</td>\n",
       "                        <td id=\"T_4f291c52_f2d4_11ec_9fe4_708bcdde023arow0_col5\" class=\"data row0 col5\" >22.7779</td>\n",
       "                        <td id=\"T_4f291c52_f2d4_11ec_9fe4_708bcdde023arow0_col6\" class=\"data row0 col6\" >26</td>\n",
       "                        <td id=\"T_4f291c52_f2d4_11ec_9fe4_708bcdde023arow0_col7\" class=\"data row0 col7\" >61</td>\n",
       "            </tr>\n",
       "            <tr>\n",
       "                        <th id=\"T_4f291c52_f2d4_11ec_9fe4_708bcdde023alevel0_row1\" class=\"row_heading level0 row1\" >Height</th>\n",
       "                        <td id=\"T_4f291c52_f2d4_11ec_9fe4_708bcdde023arow1_col0\" class=\"data row1 col0\" >2111</td>\n",
       "                        <td id=\"T_4f291c52_f2d4_11ec_9fe4_708bcdde023arow1_col1\" class=\"data row1 col1\" >1.70168</td>\n",
       "                        <td id=\"T_4f291c52_f2d4_11ec_9fe4_708bcdde023arow1_col2\" class=\"data row1 col2\" >0.0933048</td>\n",
       "                        <td id=\"T_4f291c52_f2d4_11ec_9fe4_708bcdde023arow1_col3\" class=\"data row1 col3\" >1.45</td>\n",
       "                        <td id=\"T_4f291c52_f2d4_11ec_9fe4_708bcdde023arow1_col4\" class=\"data row1 col4\" >1.63</td>\n",
       "                        <td id=\"T_4f291c52_f2d4_11ec_9fe4_708bcdde023arow1_col5\" class=\"data row1 col5\" >1.7005</td>\n",
       "                        <td id=\"T_4f291c52_f2d4_11ec_9fe4_708bcdde023arow1_col6\" class=\"data row1 col6\" >1.76846</td>\n",
       "                        <td id=\"T_4f291c52_f2d4_11ec_9fe4_708bcdde023arow1_col7\" class=\"data row1 col7\" >1.98</td>\n",
       "            </tr>\n",
       "            <tr>\n",
       "                        <th id=\"T_4f291c52_f2d4_11ec_9fe4_708bcdde023alevel0_row2\" class=\"row_heading level0 row2\" >Weight</th>\n",
       "                        <td id=\"T_4f291c52_f2d4_11ec_9fe4_708bcdde023arow2_col0\" class=\"data row2 col0\" >2111</td>\n",
       "                        <td id=\"T_4f291c52_f2d4_11ec_9fe4_708bcdde023arow2_col1\" class=\"data row2 col1\" >86.5861</td>\n",
       "                        <td id=\"T_4f291c52_f2d4_11ec_9fe4_708bcdde023arow2_col2\" class=\"data row2 col2\" >26.1912</td>\n",
       "                        <td id=\"T_4f291c52_f2d4_11ec_9fe4_708bcdde023arow2_col3\" class=\"data row2 col3\" >39</td>\n",
       "                        <td id=\"T_4f291c52_f2d4_11ec_9fe4_708bcdde023arow2_col4\" class=\"data row2 col4\" >65.4733</td>\n",
       "                        <td id=\"T_4f291c52_f2d4_11ec_9fe4_708bcdde023arow2_col5\" class=\"data row2 col5\" >83</td>\n",
       "                        <td id=\"T_4f291c52_f2d4_11ec_9fe4_708bcdde023arow2_col6\" class=\"data row2 col6\" >107.431</td>\n",
       "                        <td id=\"T_4f291c52_f2d4_11ec_9fe4_708bcdde023arow2_col7\" class=\"data row2 col7\" >173</td>\n",
       "            </tr>\n",
       "            <tr>\n",
       "                        <th id=\"T_4f291c52_f2d4_11ec_9fe4_708bcdde023alevel0_row3\" class=\"row_heading level0 row3\" >FCVC</th>\n",
       "                        <td id=\"T_4f291c52_f2d4_11ec_9fe4_708bcdde023arow3_col0\" class=\"data row3 col0\" >2111</td>\n",
       "                        <td id=\"T_4f291c52_f2d4_11ec_9fe4_708bcdde023arow3_col1\" class=\"data row3 col1\" >2.41904</td>\n",
       "                        <td id=\"T_4f291c52_f2d4_11ec_9fe4_708bcdde023arow3_col2\" class=\"data row3 col2\" >0.533927</td>\n",
       "                        <td id=\"T_4f291c52_f2d4_11ec_9fe4_708bcdde023arow3_col3\" class=\"data row3 col3\" >1</td>\n",
       "                        <td id=\"T_4f291c52_f2d4_11ec_9fe4_708bcdde023arow3_col4\" class=\"data row3 col4\" >2</td>\n",
       "                        <td id=\"T_4f291c52_f2d4_11ec_9fe4_708bcdde023arow3_col5\" class=\"data row3 col5\" >2.3855</td>\n",
       "                        <td id=\"T_4f291c52_f2d4_11ec_9fe4_708bcdde023arow3_col6\" class=\"data row3 col6\" >3</td>\n",
       "                        <td id=\"T_4f291c52_f2d4_11ec_9fe4_708bcdde023arow3_col7\" class=\"data row3 col7\" >3</td>\n",
       "            </tr>\n",
       "            <tr>\n",
       "                        <th id=\"T_4f291c52_f2d4_11ec_9fe4_708bcdde023alevel0_row4\" class=\"row_heading level0 row4\" >NCP</th>\n",
       "                        <td id=\"T_4f291c52_f2d4_11ec_9fe4_708bcdde023arow4_col0\" class=\"data row4 col0\" >2111</td>\n",
       "                        <td id=\"T_4f291c52_f2d4_11ec_9fe4_708bcdde023arow4_col1\" class=\"data row4 col1\" >2.68563</td>\n",
       "                        <td id=\"T_4f291c52_f2d4_11ec_9fe4_708bcdde023arow4_col2\" class=\"data row4 col2\" >0.778039</td>\n",
       "                        <td id=\"T_4f291c52_f2d4_11ec_9fe4_708bcdde023arow4_col3\" class=\"data row4 col3\" >1</td>\n",
       "                        <td id=\"T_4f291c52_f2d4_11ec_9fe4_708bcdde023arow4_col4\" class=\"data row4 col4\" >2.65874</td>\n",
       "                        <td id=\"T_4f291c52_f2d4_11ec_9fe4_708bcdde023arow4_col5\" class=\"data row4 col5\" >3</td>\n",
       "                        <td id=\"T_4f291c52_f2d4_11ec_9fe4_708bcdde023arow4_col6\" class=\"data row4 col6\" >3</td>\n",
       "                        <td id=\"T_4f291c52_f2d4_11ec_9fe4_708bcdde023arow4_col7\" class=\"data row4 col7\" >4</td>\n",
       "            </tr>\n",
       "            <tr>\n",
       "                        <th id=\"T_4f291c52_f2d4_11ec_9fe4_708bcdde023alevel0_row5\" class=\"row_heading level0 row5\" >CH2O</th>\n",
       "                        <td id=\"T_4f291c52_f2d4_11ec_9fe4_708bcdde023arow5_col0\" class=\"data row5 col0\" >2111</td>\n",
       "                        <td id=\"T_4f291c52_f2d4_11ec_9fe4_708bcdde023arow5_col1\" class=\"data row5 col1\" >2.00801</td>\n",
       "                        <td id=\"T_4f291c52_f2d4_11ec_9fe4_708bcdde023arow5_col2\" class=\"data row5 col2\" >0.612953</td>\n",
       "                        <td id=\"T_4f291c52_f2d4_11ec_9fe4_708bcdde023arow5_col3\" class=\"data row5 col3\" >1</td>\n",
       "                        <td id=\"T_4f291c52_f2d4_11ec_9fe4_708bcdde023arow5_col4\" class=\"data row5 col4\" >1.58481</td>\n",
       "                        <td id=\"T_4f291c52_f2d4_11ec_9fe4_708bcdde023arow5_col5\" class=\"data row5 col5\" >2</td>\n",
       "                        <td id=\"T_4f291c52_f2d4_11ec_9fe4_708bcdde023arow5_col6\" class=\"data row5 col6\" >2.47742</td>\n",
       "                        <td id=\"T_4f291c52_f2d4_11ec_9fe4_708bcdde023arow5_col7\" class=\"data row5 col7\" >3</td>\n",
       "            </tr>\n",
       "            <tr>\n",
       "                        <th id=\"T_4f291c52_f2d4_11ec_9fe4_708bcdde023alevel0_row6\" class=\"row_heading level0 row6\" >FAF</th>\n",
       "                        <td id=\"T_4f291c52_f2d4_11ec_9fe4_708bcdde023arow6_col0\" class=\"data row6 col0\" >2111</td>\n",
       "                        <td id=\"T_4f291c52_f2d4_11ec_9fe4_708bcdde023arow6_col1\" class=\"data row6 col1\" >1.0103</td>\n",
       "                        <td id=\"T_4f291c52_f2d4_11ec_9fe4_708bcdde023arow6_col2\" class=\"data row6 col2\" >0.850592</td>\n",
       "                        <td id=\"T_4f291c52_f2d4_11ec_9fe4_708bcdde023arow6_col3\" class=\"data row6 col3\" >0</td>\n",
       "                        <td id=\"T_4f291c52_f2d4_11ec_9fe4_708bcdde023arow6_col4\" class=\"data row6 col4\" >0.124505</td>\n",
       "                        <td id=\"T_4f291c52_f2d4_11ec_9fe4_708bcdde023arow6_col5\" class=\"data row6 col5\" >1</td>\n",
       "                        <td id=\"T_4f291c52_f2d4_11ec_9fe4_708bcdde023arow6_col6\" class=\"data row6 col6\" >1.66668</td>\n",
       "                        <td id=\"T_4f291c52_f2d4_11ec_9fe4_708bcdde023arow6_col7\" class=\"data row6 col7\" >3</td>\n",
       "            </tr>\n",
       "            <tr>\n",
       "                        <th id=\"T_4f291c52_f2d4_11ec_9fe4_708bcdde023alevel0_row7\" class=\"row_heading level0 row7\" >TUE</th>\n",
       "                        <td id=\"T_4f291c52_f2d4_11ec_9fe4_708bcdde023arow7_col0\" class=\"data row7 col0\" >2111</td>\n",
       "                        <td id=\"T_4f291c52_f2d4_11ec_9fe4_708bcdde023arow7_col1\" class=\"data row7 col1\" >0.657866</td>\n",
       "                        <td id=\"T_4f291c52_f2d4_11ec_9fe4_708bcdde023arow7_col2\" class=\"data row7 col2\" >0.608927</td>\n",
       "                        <td id=\"T_4f291c52_f2d4_11ec_9fe4_708bcdde023arow7_col3\" class=\"data row7 col3\" >0</td>\n",
       "                        <td id=\"T_4f291c52_f2d4_11ec_9fe4_708bcdde023arow7_col4\" class=\"data row7 col4\" >0</td>\n",
       "                        <td id=\"T_4f291c52_f2d4_11ec_9fe4_708bcdde023arow7_col5\" class=\"data row7 col5\" >0.62535</td>\n",
       "                        <td id=\"T_4f291c52_f2d4_11ec_9fe4_708bcdde023arow7_col6\" class=\"data row7 col6\" >1</td>\n",
       "                        <td id=\"T_4f291c52_f2d4_11ec_9fe4_708bcdde023arow7_col7\" class=\"data row7 col7\" >2</td>\n",
       "            </tr>\n",
       "    </tbody></table>"
      ],
      "text/plain": [
       "<pandas.io.formats.style.Styler at 0x29b61acf608>"
      ]
     },
     "execution_count": 12,
     "metadata": {},
     "output_type": "execute_result"
    }
   ],
   "source": [
    "df.describe().T.style.bar(subset=['mean'], color='#606ff2').background_gradient(subset=['std'], cmap='Blues').background_gradient(subset=['50%'], cmap='Blues')"
   ]
  },
  {
   "cell_type": "code",
   "execution_count": 13,
   "metadata": {},
   "outputs": [],
   "source": [
    "target = pd.DataFrame(df_categorized, columns = ['NObeyesdad'])"
   ]
  },
  {
   "cell_type": "code",
   "execution_count": 14,
   "metadata": {},
   "outputs": [
    {
     "data": {
      "text/plain": [
       "<matplotlib.axes._subplots.AxesSubplot at 0x29b620552c8>"
      ]
     },
     "execution_count": 14,
     "metadata": {},
     "output_type": "execute_result"
    },
    {
     "data": {
      "image/png": "[encoded data removed]",
      "text/plain": [
       "<Figure size 1296x432 with 1 Axes>"
      ]
     },
     "metadata": {},
     "output_type": "display_data"
    }
   ],
   "source": [
    "fig, ax = plt.subplots(1, 1, figsize=(18, 6))\n",
    "target['NObeyesdad'].value_counts().plot.pie(autopct='%1.1f%%',shadow=True, cmap=\"Blues\", startangle=70)"
   ]
  },
  {
   "cell_type": "code",
   "execution_count": 15,
   "metadata": {},
   "outputs": [
    {
     "name": "stdout",
     "output_type": "stream",
     "text": [
      "['Female' 'Male']\n",
      "['yes' 'no']\n",
      "['no' 'yes']\n",
      "['Sometimes' 'Frequently' 'Always' 'no']\n",
      "['no' 'yes']\n",
      "['no' 'yes']\n",
      "['no' 'Sometimes' 'Frequently' 'Always']\n",
      "['Public_Transportation' 'Walking' 'Automobile' 'Motorbike' 'Bike']\n"
     ]
    }
   ],
   "source": [
    "list_var = ['Gender','family_history_with_overweight', 'FAVC', 'CAEC', 'SMOKE', 'SCC', 'CALC', 'MTRANS']\n",
    "for x in list_var:\n",
    "    print(df_categorized[x].unique())"
   ]
  },
  {
   "cell_type": "code",
   "execution_count": 16,
   "metadata": {},
   "outputs": [],
   "source": [
    "dict_Gender = {'Female' : 0, 'Male' : 1}\n",
    "dict_family_history_with_overweight = {'no' : 0, 'yes' : 1}\n",
    "dict_FAVC = {'no' : 0, 'yes' : 1}\n",
    "dict_CAEC = {'no' : 0, 'Sometimes' : 1, 'Frequently' : 2, 'Always' : 3}\n",
    "dict_SMOKE = {'no' : 0, 'yes' : 1}\n",
    "dict_SCC = {'no' : 0, 'yes' : 1}\n",
    "dict_CALC = {'no' : 0, 'Sometimes' : 1, 'Frequently' : 2, 'Always' : 3}\n",
    "dict_MTRANS = {'Public_Transportation' : 0, 'Walking' : 1, 'Automobile' : 2, 'Motorbike' : 3, 'Bike' : 4}\n",
    "dict_NObeyesdad = {'Normal_Weight' : 0, 'Overweight_Level_I' : 1, 'Overweight_Level_II' : 2, 'Obesity_Type_I' : 3, 'Insufficient_Weight' : 4, 'Obesity_Type_II' : 5, 'Obesity_Type_III' : 6,}"
   ]
  },
  {
   "cell_type": "code",
   "execution_count": 17,
   "metadata": {},
   "outputs": [
    {
     "data": {
      "text/html": [
       "<div>\n",
       "<style scoped>\n",
       "    .dataframe tbody tr th:only-of-type {\n",
       "        vertical-align: middle;\n",
       "    }\n",
       "\n",
       "    .dataframe tbody tr th {\n",
       "        vertical-align: top;\n",
       "    }\n",
       "\n",
       "    .dataframe thead th {\n",
       "        text-align: right;\n",
       "    }\n",
       "</style>\n",
       "<table border=\"1\" class=\"dataframe\">\n",
       "  <thead>\n",
       "    <tr style=\"text-align: right;\">\n",
       "      <th></th>\n",
       "      <th>Gender</th>\n",
       "      <th>Age</th>\n",
       "      <th>Height</th>\n",
       "      <th>Weight</th>\n",
       "      <th>family_history_with_overweight</th>\n",
       "      <th>FAVC</th>\n",
       "      <th>FCVC</th>\n",
       "      <th>NCP</th>\n",
       "      <th>CAEC</th>\n",
       "      <th>SMOKE</th>\n",
       "      <th>CH2O</th>\n",
       "      <th>SCC</th>\n",
       "      <th>FAF</th>\n",
       "      <th>TUE</th>\n",
       "      <th>CALC</th>\n",
       "      <th>MTRANS</th>\n",
       "      <th>NObeyesdad</th>\n",
       "    </tr>\n",
       "  </thead>\n",
       "  <tbody>\n",
       "    <tr>\n",
       "      <td>0</td>\n",
       "      <td>0</td>\n",
       "      <td>21.0</td>\n",
       "      <td>1.62</td>\n",
       "      <td>64.0</td>\n",
       "      <td>1</td>\n",
       "      <td>0</td>\n",
       "      <td>2.0</td>\n",
       "      <td>3.0</td>\n",
       "      <td>1</td>\n",
       "      <td>0</td>\n",
       "      <td>2.0</td>\n",
       "      <td>0</td>\n",
       "      <td>0.0</td>\n",
       "      <td>1.0</td>\n",
       "      <td>0</td>\n",
       "      <td>0</td>\n",
       "      <td>Normal_Weight</td>\n",
       "    </tr>\n",
       "    <tr>\n",
       "      <td>1</td>\n",
       "      <td>0</td>\n",
       "      <td>21.0</td>\n",
       "      <td>1.52</td>\n",
       "      <td>56.0</td>\n",
       "      <td>1</td>\n",
       "      <td>0</td>\n",
       "      <td>3.0</td>\n",
       "      <td>3.0</td>\n",
       "      <td>1</td>\n",
       "      <td>1</td>\n",
       "      <td>3.0</td>\n",
       "      <td>1</td>\n",
       "      <td>3.0</td>\n",
       "      <td>0.0</td>\n",
       "      <td>1</td>\n",
       "      <td>0</td>\n",
       "      <td>Normal_Weight</td>\n",
       "    </tr>\n",
       "    <tr>\n",
       "      <td>2</td>\n",
       "      <td>1</td>\n",
       "      <td>23.0</td>\n",
       "      <td>1.80</td>\n",
       "      <td>77.0</td>\n",
       "      <td>1</td>\n",
       "      <td>0</td>\n",
       "      <td>2.0</td>\n",
       "      <td>3.0</td>\n",
       "      <td>1</td>\n",
       "      <td>0</td>\n",
       "      <td>2.0</td>\n",
       "      <td>0</td>\n",
       "      <td>2.0</td>\n",
       "      <td>1.0</td>\n",
       "      <td>2</td>\n",
       "      <td>0</td>\n",
       "      <td>Normal_Weight</td>\n",
       "    </tr>\n",
       "    <tr>\n",
       "      <td>3</td>\n",
       "      <td>1</td>\n",
       "      <td>27.0</td>\n",
       "      <td>1.80</td>\n",
       "      <td>87.0</td>\n",
       "      <td>0</td>\n",
       "      <td>0</td>\n",
       "      <td>3.0</td>\n",
       "      <td>3.0</td>\n",
       "      <td>1</td>\n",
       "      <td>0</td>\n",
       "      <td>2.0</td>\n",
       "      <td>0</td>\n",
       "      <td>2.0</td>\n",
       "      <td>0.0</td>\n",
       "      <td>2</td>\n",
       "      <td>1</td>\n",
       "      <td>Overweight_Level_I</td>\n",
       "    </tr>\n",
       "    <tr>\n",
       "      <td>4</td>\n",
       "      <td>1</td>\n",
       "      <td>22.0</td>\n",
       "      <td>1.78</td>\n",
       "      <td>89.8</td>\n",
       "      <td>0</td>\n",
       "      <td>0</td>\n",
       "      <td>2.0</td>\n",
       "      <td>1.0</td>\n",
       "      <td>1</td>\n",
       "      <td>0</td>\n",
       "      <td>2.0</td>\n",
       "      <td>0</td>\n",
       "      <td>0.0</td>\n",
       "      <td>0.0</td>\n",
       "      <td>1</td>\n",
       "      <td>0</td>\n",
       "      <td>Overweight_Level_II</td>\n",
       "    </tr>\n",
       "  </tbody>\n",
       "</table>\n",
       "</div>"
      ],
      "text/plain": [
       "   Gender   Age  Height  Weight  family_history_with_overweight  FAVC  FCVC  \\\n",
       "0       0  21.0    1.62    64.0                               1     0   2.0   \n",
       "1       0  21.0    1.52    56.0                               1     0   3.0   \n",
       "2       1  23.0    1.80    77.0                               1     0   2.0   \n",
       "3       1  27.0    1.80    87.0                               0     0   3.0   \n",
       "4       1  22.0    1.78    89.8                               0     0   2.0   \n",
       "\n",
       "   NCP  CAEC  SMOKE  CH2O  SCC  FAF  TUE  CALC  MTRANS           NObeyesdad  \n",
       "0  3.0     1      0   2.0    0  0.0  1.0     0       0        Normal_Weight  \n",
       "1  3.0     1      1   3.0    1  3.0  0.0     1       0        Normal_Weight  \n",
       "2  3.0     1      0   2.0    0  2.0  1.0     2       0        Normal_Weight  \n",
       "3  3.0     1      0   2.0    0  2.0  0.0     2       1   Overweight_Level_I  \n",
       "4  1.0     1      0   2.0    0  0.0  0.0     1       0  Overweight_Level_II  "
      ]
     },
     "execution_count": 17,
     "metadata": {},
     "output_type": "execute_result"
    }
   ],
   "source": [
    "for x in list_var:\n",
    "    exec(\"df_categorized['\"+ x +\"'] = df_categorized['\"+ x +\"'].replace(dict_\"+ x +\")\") #transformation for each string variable\n",
    "\n",
    "df_categorized.head()"
   ]
  },
  {
   "cell_type": "markdown",
   "metadata": {},
   "source": [
    "### Data Processing"
   ]
  },
  {
   "cell_type": "code",
   "execution_count": 18,
   "metadata": {},
   "outputs": [],
   "source": [
    "df_features = df_categorized.drop(columns = 'NObeyesdad')"
   ]
  },
  {
   "cell_type": "code",
   "execution_count": 19,
   "metadata": {},
   "outputs": [
    {
     "data": {
      "text/html": [
       "<div>\n",
       "<style scoped>\n",
       "    .dataframe tbody tr th:only-of-type {\n",
       "        vertical-align: middle;\n",
       "    }\n",
       "\n",
       "    .dataframe tbody tr th {\n",
       "        vertical-align: top;\n",
       "    }\n",
       "\n",
       "    .dataframe thead th {\n",
       "        text-align: right;\n",
       "    }\n",
       "</style>\n",
       "<table border=\"1\" class=\"dataframe\">\n",
       "  <thead>\n",
       "    <tr style=\"text-align: right;\">\n",
       "      <th></th>\n",
       "      <th>Gender</th>\n",
       "      <th>Age</th>\n",
       "      <th>Height</th>\n",
       "      <th>Weight</th>\n",
       "      <th>family_history_with_overweight</th>\n",
       "      <th>FAVC</th>\n",
       "      <th>FCVC</th>\n",
       "      <th>NCP</th>\n",
       "      <th>CAEC</th>\n",
       "      <th>SMOKE</th>\n",
       "      <th>CH2O</th>\n",
       "      <th>SCC</th>\n",
       "      <th>FAF</th>\n",
       "      <th>TUE</th>\n",
       "      <th>CALC</th>\n",
       "      <th>MTRANS</th>\n",
       "      <th>NObeyesdad</th>\n",
       "    </tr>\n",
       "  </thead>\n",
       "  <tbody>\n",
       "    <tr>\n",
       "      <td>0</td>\n",
       "      <td>-1.010966</td>\n",
       "      <td>-0.522851</td>\n",
       "      <td>-0.875432</td>\n",
       "      <td>-0.862561</td>\n",
       "      <td>0.472565</td>\n",
       "      <td>-2.75829</td>\n",
       "      <td>-0.784838</td>\n",
       "      <td>0.404376</td>\n",
       "      <td>-0.29881</td>\n",
       "      <td>-0.145971</td>\n",
       "      <td>-0.012314</td>\n",
       "      <td>-0.218380</td>\n",
       "      <td>-1.187312</td>\n",
       "      <td>0.562347</td>\n",
       "      <td>-1.418188</td>\n",
       "      <td>-0.562843</td>\n",
       "      <td>Normal_Weight</td>\n",
       "    </tr>\n",
       "    <tr>\n",
       "      <td>1</td>\n",
       "      <td>-1.010966</td>\n",
       "      <td>-0.522851</td>\n",
       "      <td>-1.950036</td>\n",
       "      <td>-1.168884</td>\n",
       "      <td>0.472565</td>\n",
       "      <td>-2.75829</td>\n",
       "      <td>1.088434</td>\n",
       "      <td>0.404376</td>\n",
       "      <td>-0.29881</td>\n",
       "      <td>6.850680</td>\n",
       "      <td>1.619759</td>\n",
       "      <td>4.579165</td>\n",
       "      <td>2.339939</td>\n",
       "      <td>-1.079742</td>\n",
       "      <td>0.521474</td>\n",
       "      <td>-0.562843</td>\n",
       "      <td>Normal_Weight</td>\n",
       "    </tr>\n",
       "    <tr>\n",
       "      <td>2</td>\n",
       "      <td>0.989153</td>\n",
       "      <td>-0.207656</td>\n",
       "      <td>1.058855</td>\n",
       "      <td>-0.364787</td>\n",
       "      <td>0.472565</td>\n",
       "      <td>-2.75829</td>\n",
       "      <td>-0.784838</td>\n",
       "      <td>0.404376</td>\n",
       "      <td>-0.29881</td>\n",
       "      <td>-0.145971</td>\n",
       "      <td>-0.012314</td>\n",
       "      <td>-0.218380</td>\n",
       "      <td>1.164189</td>\n",
       "      <td>0.562347</td>\n",
       "      <td>2.461135</td>\n",
       "      <td>-0.562843</td>\n",
       "      <td>Normal_Weight</td>\n",
       "    </tr>\n",
       "    <tr>\n",
       "      <td>3</td>\n",
       "      <td>0.989153</td>\n",
       "      <td>0.422733</td>\n",
       "      <td>1.058855</td>\n",
       "      <td>0.018116</td>\n",
       "      <td>-2.116110</td>\n",
       "      <td>-2.75829</td>\n",
       "      <td>1.088434</td>\n",
       "      <td>0.404376</td>\n",
       "      <td>-0.29881</td>\n",
       "      <td>-0.145971</td>\n",
       "      <td>-0.012314</td>\n",
       "      <td>-0.218380</td>\n",
       "      <td>1.164189</td>\n",
       "      <td>-1.079742</td>\n",
       "      <td>2.461135</td>\n",
       "      <td>0.588501</td>\n",
       "      <td>Overweight_Level_I</td>\n",
       "    </tr>\n",
       "    <tr>\n",
       "      <td>4</td>\n",
       "      <td>0.989153</td>\n",
       "      <td>-0.365253</td>\n",
       "      <td>0.843934</td>\n",
       "      <td>0.125329</td>\n",
       "      <td>-2.116110</td>\n",
       "      <td>-2.75829</td>\n",
       "      <td>-0.784838</td>\n",
       "      <td>-2.165781</td>\n",
       "      <td>-0.29881</td>\n",
       "      <td>-0.145971</td>\n",
       "      <td>-0.012314</td>\n",
       "      <td>-0.218380</td>\n",
       "      <td>-1.187312</td>\n",
       "      <td>-1.079742</td>\n",
       "      <td>0.521474</td>\n",
       "      <td>-0.562843</td>\n",
       "      <td>Overweight_Level_II</td>\n",
       "    </tr>\n",
       "  </tbody>\n",
       "</table>\n",
       "</div>"
      ],
      "text/plain": [
       "     Gender       Age    Height    Weight  family_history_with_overweight  \\\n",
       "0 -1.010966 -0.522851 -0.875432 -0.862561                        0.472565   \n",
       "1 -1.010966 -0.522851 -1.950036 -1.168884                        0.472565   \n",
       "2  0.989153 -0.207656  1.058855 -0.364787                        0.472565   \n",
       "3  0.989153  0.422733  1.058855  0.018116                       -2.116110   \n",
       "4  0.989153 -0.365253  0.843934  0.125329                       -2.116110   \n",
       "\n",
       "      FAVC      FCVC       NCP     CAEC     SMOKE      CH2O       SCC  \\\n",
       "0 -2.75829 -0.784838  0.404376 -0.29881 -0.145971 -0.012314 -0.218380   \n",
       "1 -2.75829  1.088434  0.404376 -0.29881  6.850680  1.619759  4.579165   \n",
       "2 -2.75829 -0.784838  0.404376 -0.29881 -0.145971 -0.012314 -0.218380   \n",
       "3 -2.75829  1.088434  0.404376 -0.29881 -0.145971 -0.012314 -0.218380   \n",
       "4 -2.75829 -0.784838 -2.165781 -0.29881 -0.145971 -0.012314 -0.218380   \n",
       "\n",
       "        FAF       TUE      CALC    MTRANS           NObeyesdad  \n",
       "0 -1.187312  0.562347 -1.418188 -0.562843        Normal_Weight  \n",
       "1  2.339939 -1.079742  0.521474 -0.562843        Normal_Weight  \n",
       "2  1.164189  0.562347  2.461135 -0.562843        Normal_Weight  \n",
       "3  1.164189 -1.079742  2.461135  0.588501   Overweight_Level_I  \n",
       "4 -1.187312 -1.079742  0.521474 -0.562843  Overweight_Level_II  "
      ]
     },
     "execution_count": 19,
     "metadata": {},
     "output_type": "execute_result"
    }
   ],
   "source": [
    "scaler = preprocessing.StandardScaler().fit(df_features)\n",
    "df_scaled = pd.DataFrame(scaler.transform(df_features))\n",
    "df_scaled['NObesity'] = df['NObeyesdad']\n",
    "df_scaled.columns = df.columns.to_list()\n",
    "df_scaled.head()"
   ]
  },
  {
   "cell_type": "code",
   "execution_count": 20,
   "metadata": {},
   "outputs": [],
   "source": [
    "df_scaled_features = df_scaled.drop(columns = 'NObeyesdad')\n",
    "X_train, X_test, Y_train, Y_test = train_test_split(df_scaled_features, df_scaled['NObeyesdad'], test_size=0.33)"
   ]
  },
  {
   "cell_type": "markdown",
   "metadata": {},
   "source": [
    "### KNN"
   ]
  },
  {
   "cell_type": "code",
   "execution_count": 21,
   "metadata": {},
   "outputs": [
    {
     "name": "stdout",
     "output_type": "stream",
     "text": [
      "Wall time: 83.8 ms\n"
     ]
    }
   ],
   "source": [
    "%%time\n",
    "knn1 = KNeighborsClassifier(n_neighbors=1)\n",
    "knn1.fit(X_train,Y_train).predict(X_test)\n",
    "pred_knn1 = knn1.predict(X_test)"
   ]
  },
  {
   "cell_type": "code",
   "execution_count": 22,
   "metadata": {},
   "outputs": [
    {
     "name": "stdout",
     "output_type": "stream",
     "text": [
      "0.7457507357432395\n",
      "0.020202690354696014\n"
     ]
    }
   ],
   "source": [
    "acc_knn1 = cross_val_score(knn1, X_test, Y_test, cv=3, scoring='accuracy')\n",
    "acc_knn1\n",
    "print(acc_knn1.mean())\n",
    "print(acc_knn1.std())"
   ]
  },
  {
   "cell_type": "code",
   "execution_count": 23,
   "metadata": {},
   "outputs": [
    {
     "name": "stdout",
     "output_type": "stream",
     "text": [
      "0.7298375229165862\n",
      "0.02835910239433468\n"
     ]
    }
   ],
   "source": [
    "precision_knn1 = cross_val_score(knn1, X_test, Y_test, cv=3, scoring='precision_macro')\n",
    "precision_knn1\n",
    "print(precision_knn1.mean())\n",
    "print(precision_knn1.std())"
   ]
  },
  {
   "cell_type": "code",
   "execution_count": 24,
   "metadata": {},
   "outputs": [
    {
     "name": "stdout",
     "output_type": "stream",
     "text": [
      "0.7404015297754145\n",
      "0.022339268352566534\n"
     ]
    }
   ],
   "source": [
    "recall_knn1 = cross_val_score(knn1, X_test, Y_test, cv=3, scoring='recall_macro')\n",
    "recall_knn1\n",
    "print(recall_knn1.mean())\n",
    "print(recall_knn1.std())"
   ]
  },
  {
   "cell_type": "code",
   "execution_count": 25,
   "metadata": {},
   "outputs": [
    {
     "name": "stdout",
     "output_type": "stream",
     "text": [
      "0.7269488792059239\n",
      "0.027531420081983032\n"
     ]
    }
   ],
   "source": [
    "f1_knn1 = cross_val_score(knn1, X_test, Y_test, cv=3, scoring='f1_macro')\n",
    "f1_knn1\n",
    "print(f1_knn1.mean())\n",
    "print(f1_knn1.std())"
   ]
  },
  {
   "cell_type": "code",
   "execution_count": 26,
   "metadata": {},
   "outputs": [
    {
     "name": "stdout",
     "output_type": "stream",
     "text": [
      "[[81  8  1  0  0  5  1]\n",
      " [12 36  6  2  1 15 17]\n",
      " [ 0  6 97  1  0  0 10]\n",
      " [ 0  1  1 98  0  0  0]\n",
      " [ 2  1  0  2 91  0  0]\n",
      " [ 4 11  6  0  0 74  8]\n",
      " [ 1  5  8  1  0  1 82]]\n",
      "                     precision    recall  f1-score   support\n",
      "\n",
      "Insufficient_Weight       0.81      0.84      0.83        96\n",
      "      Normal_Weight       0.53      0.40      0.46        89\n",
      "     Obesity_Type_I       0.82      0.85      0.83       114\n",
      "    Obesity_Type_II       0.94      0.98      0.96       100\n",
      "   Obesity_Type_III       0.99      0.95      0.97        96\n",
      " Overweight_Level_I       0.78      0.72      0.75       103\n",
      "Overweight_Level_II       0.69      0.84      0.76        98\n",
      "\n",
      "           accuracy                           0.80       696\n",
      "          macro avg       0.79      0.80      0.79       696\n",
      "       weighted avg       0.80      0.80      0.80       696\n",
      "\n"
     ]
    }
   ],
   "source": [
    "from sklearn.metrics import classification_report, confusion_matrix\n",
    "print(confusion_matrix(Y_test, pred_knn1))\n",
    "print(classification_report(Y_test, pred_knn1))"
   ]
  },
  {
   "cell_type": "code",
   "execution_count": 27,
   "metadata": {},
   "outputs": [
    {
     "name": "stdout",
     "output_type": "stream",
     "text": [
      "Wall time: 88.8 ms\n"
     ]
    }
   ],
   "source": [
    "%%time\n",
    "knn3 = KNeighborsClassifier(n_neighbors=3)\n",
    "knn3.fit(X_train,Y_train).predict(X_test)\n",
    "pred_knn3 = knn3.predict(X_test)"
   ]
  },
  {
   "cell_type": "code",
   "execution_count": 28,
   "metadata": {},
   "outputs": [
    {
     "name": "stdout",
     "output_type": "stream",
     "text": [
      "0.6938633247478826\n",
      "0.017196516667718556\n"
     ]
    }
   ],
   "source": [
    "acc_knn3 = cross_val_score(knn3, X_test, Y_test, cv=3, scoring='accuracy')\n",
    "acc_knn3\n",
    "print(acc_knn3.mean())\n",
    "print(acc_knn3.std())"
   ]
  },
  {
   "cell_type": "code",
   "execution_count": 29,
   "metadata": {},
   "outputs": [
    {
     "name": "stdout",
     "output_type": "stream",
     "text": [
      "0.6837673006833181\n",
      "0.024801700195338176\n"
     ]
    }
   ],
   "source": [
    "precision_knn3 = cross_val_score(knn3, X_test, Y_test, cv=3, scoring='precision_macro')\n",
    "precision_knn3\n",
    "print(precision_knn3.mean())\n",
    "print(precision_knn3.std())"
   ]
  },
  {
   "cell_type": "code",
   "execution_count": 30,
   "metadata": {},
   "outputs": [
    {
     "name": "stdout",
     "output_type": "stream",
     "text": [
      "0.6886263385902125\n",
      "0.018497598104836376\n"
     ]
    }
   ],
   "source": [
    "recall_knn3 = cross_val_score(knn3, X_test, Y_test, cv=3, scoring='recall_macro')\n",
    "recall_knn3\n",
    "print(recall_knn3.mean())\n",
    "print(recall_knn3.std())"
   ]
  },
  {
   "cell_type": "code",
   "execution_count": 31,
   "metadata": {},
   "outputs": [
    {
     "name": "stdout",
     "output_type": "stream",
     "text": [
      "0.6743803747173979\n",
      "0.020513950059782623\n"
     ]
    }
   ],
   "source": [
    "f1_knn3 = cross_val_score(knn3, X_test, Y_test, cv=3, scoring='f1_macro')\n",
    "f1_knn3\n",
    "print(f1_knn3.mean())\n",
    "print(f1_knn3.std())"
   ]
  },
  {
   "cell_type": "code",
   "execution_count": 32,
   "metadata": {},
   "outputs": [
    {
     "name": "stdout",
     "output_type": "stream",
     "text": [
      "[[85  6  0  0  0  4  1]\n",
      " [20 36  8  2  0  8 15]\n",
      " [ 3  5 97  3  0  1  5]\n",
      " [ 0  2  0 98  0  0  0]\n",
      " [ 1  1  0  0 94  0  0]\n",
      " [ 7 14 10  0  0 70  2]\n",
      " [ 3  7  8  4  0  1 75]]\n",
      "                     precision    recall  f1-score   support\n",
      "\n",
      "Insufficient_Weight       0.71      0.89      0.79        96\n",
      "      Normal_Weight       0.51      0.40      0.45        89\n",
      "     Obesity_Type_I       0.79      0.85      0.82       114\n",
      "    Obesity_Type_II       0.92      0.98      0.95       100\n",
      "   Obesity_Type_III       1.00      0.98      0.99        96\n",
      " Overweight_Level_I       0.83      0.68      0.75       103\n",
      "Overweight_Level_II       0.77      0.77      0.77        98\n",
      "\n",
      "           accuracy                           0.80       696\n",
      "          macro avg       0.79      0.79      0.79       696\n",
      "       weighted avg       0.79      0.80      0.79       696\n",
      "\n"
     ]
    }
   ],
   "source": [
    "print(confusion_matrix(Y_test, pred_knn3))\n",
    "print(classification_report(Y_test, pred_knn3))"
   ]
  },
  {
   "cell_type": "code",
   "execution_count": 33,
   "metadata": {},
   "outputs": [
    {
     "name": "stdout",
     "output_type": "stream",
     "text": [
      "Wall time: 102 ms\n"
     ]
    }
   ],
   "source": [
    "%%time\n",
    "knn5 = KNeighborsClassifier(n_neighbors=5)\n",
    "knn5.fit(X_train,Y_train).predict(X_test)\n",
    "pred_knn5 = knn5.predict(X_test)"
   ]
  },
  {
   "cell_type": "code",
   "execution_count": 34,
   "metadata": {},
   "outputs": [
    {
     "name": "stdout",
     "output_type": "stream",
     "text": [
      "0.6896145944121956\n",
      "0.013511753335305153\n"
     ]
    }
   ],
   "source": [
    "acc_knn5 = cross_val_score(knn5, X_test, Y_test, cv=3, scoring='accuracy')\n",
    "acc_knn5\n",
    "print(acc_knn5.mean())\n",
    "print(acc_knn5.std())"
   ]
  },
  {
   "cell_type": "code",
   "execution_count": 35,
   "metadata": {},
   "outputs": [
    {
     "name": "stdout",
     "output_type": "stream",
     "text": [
      "0.6851455279147585\n",
      "0.018678977866147535\n"
     ]
    }
   ],
   "source": [
    "precision_knn5 = cross_val_score(knn5, X_test, Y_test, cv=3, scoring='precision_macro')\n",
    "precision_knn5\n",
    "print(precision_knn5.mean())\n",
    "print(precision_knn5.std())"
   ]
  },
  {
   "cell_type": "code",
   "execution_count": 36,
   "metadata": {},
   "outputs": [
    {
     "name": "stdout",
     "output_type": "stream",
     "text": [
      "0.6854588592022631\n",
      "0.015377408531142174\n"
     ]
    }
   ],
   "source": [
    "recall_knn5 = cross_val_score(knn5, X_test, Y_test, cv=3, scoring='recall_macro')\n",
    "recall_knn5\n",
    "print(recall_knn5.mean())\n",
    "print(recall_knn5.std())"
   ]
  },
  {
   "cell_type": "code",
   "execution_count": 37,
   "metadata": {},
   "outputs": [
    {
     "name": "stdout",
     "output_type": "stream",
     "text": [
      "0.6696697348619965\n",
      "0.015505801471887884\n"
     ]
    }
   ],
   "source": [
    "f1_knn5 = cross_val_score(knn5, X_test, Y_test, cv=3, scoring='f1_macro')\n",
    "f1_knn5\n",
    "print(f1_knn5.mean())\n",
    "print(f1_knn5.std())"
   ]
  },
  {
   "cell_type": "code",
   "execution_count": 38,
   "metadata": {},
   "outputs": [
    {
     "name": "stdout",
     "output_type": "stream",
     "text": [
      "[[87  6  0  0  0  3  0]\n",
      " [22 34  9  2  0  8 14]\n",
      " [ 2  5 98  4  0  1  4]\n",
      " [ 0  2  0 98  0  0  0]\n",
      " [ 1  1  0  0 94  0  0]\n",
      " [ 5 14 12  0  0 71  1]\n",
      " [ 1  6 10  8  0  6 67]]\n",
      "                     precision    recall  f1-score   support\n",
      "\n",
      "Insufficient_Weight       0.74      0.91      0.81        96\n",
      "      Normal_Weight       0.50      0.38      0.43        89\n",
      "     Obesity_Type_I       0.76      0.86      0.81       114\n",
      "    Obesity_Type_II       0.88      0.98      0.92       100\n",
      "   Obesity_Type_III       1.00      0.98      0.99        96\n",
      " Overweight_Level_I       0.80      0.69      0.74       103\n",
      "Overweight_Level_II       0.78      0.68      0.73        98\n",
      "\n",
      "           accuracy                           0.79       696\n",
      "          macro avg       0.78      0.78      0.78       696\n",
      "       weighted avg       0.78      0.79      0.78       696\n",
      "\n"
     ]
    }
   ],
   "source": [
    "print(confusion_matrix(Y_test, pred_knn5))\n",
    "print(classification_report(Y_test, pred_knn5))"
   ]
  },
  {
   "cell_type": "code",
   "execution_count": 39,
   "metadata": {},
   "outputs": [],
   "source": [
    "error = []\n",
    "for i in range(1, 10):\n",
    "    knn = KNeighborsClassifier(n_neighbors=i)\n",
    "    knn.fit(X_train, Y_train)\n",
    "    pred_i = knn.predict(X_test)\n",
    "    error.append(np.mean(pred_i != Y_test))"
   ]
  },
  {
   "cell_type": "code",
   "execution_count": 40,
   "metadata": {},
   "outputs": [
    {
     "data": {
      "text/plain": [
       "Text(0, 0.5, 'Mean Error')"
      ]
     },
     "execution_count": 40,
     "metadata": {},
     "output_type": "execute_result"
    },
    {
     "data": {
      "image/png": "[encoded data removed]",
      "text/plain": [
       "<Figure size 864x432 with 1 Axes>"
      ]
     },
     "metadata": {
      "needs_background": "light"
     },
     "output_type": "display_data"
    }
   ],
   "source": [
    "plt.figure(figsize=(12, 6))\n",
    "plt.plot(range(1, 10), error, color='red', linestyle='dashed', marker='o',\n",
    "         markerfacecolor='blue', markersize=10)\n",
    "plt.title('Error Rate K Value')\n",
    "plt.xlabel('K Value')\n",
    "plt.ylabel('Mean Error')"
   ]
  },
  {
   "cell_type": "markdown",
   "metadata": {},
   "source": [
    "### Decision Tree"
   ]
  },
  {
   "cell_type": "code",
   "execution_count": 41,
   "metadata": {},
   "outputs": [],
   "source": [
    "from sklearn.tree import DecisionTreeClassifier"
   ]
  },
  {
   "cell_type": "code",
   "execution_count": 42,
   "metadata": {},
   "outputs": [
    {
     "name": "stdout",
     "output_type": "stream",
     "text": [
      "Wall time: 14 ms\n"
     ]
    }
   ],
   "source": [
    "%%time\n",
    "from sklearn.metrics import accuracy_score\n",
    "dtree1 = DecisionTreeClassifier(criterion='gini')\n",
    "dtree1.fit(X_train, Y_train).predict(X_test)\n",
    "pred_gini = dtree1.predict(X_test)"
   ]
  },
  {
   "cell_type": "code",
   "execution_count": 43,
   "metadata": {},
   "outputs": [
    {
     "data": {
      "text/plain": [
       "0.860632183908046"
      ]
     },
     "execution_count": 43,
     "metadata": {},
     "output_type": "execute_result"
    }
   ],
   "source": [
    "acc_dtree1 = accuracy_score(Y_test, pred_gini)\n",
    "acc_dtree1"
   ]
  },
  {
   "cell_type": "code",
   "execution_count": 44,
   "metadata": {},
   "outputs": [
    {
     "name": "stdout",
     "output_type": "stream",
     "text": [
      "0.8261288159339134\n",
      "0.011538639704473972\n"
     ]
    }
   ],
   "source": [
    "acc_dtree1 = cross_val_score(dtree1, X_test, Y_test, cv=3, scoring='accuracy')\n",
    "acc_dtree1\n",
    "print(acc_dtree1.mean())\n",
    "print(acc_dtree1.std())"
   ]
  },
  {
   "cell_type": "code",
   "execution_count": 45,
   "metadata": {},
   "outputs": [
    {
     "name": "stdout",
     "output_type": "stream",
     "text": [
      "0.8163778202444675\n",
      "0.006025610364312542\n"
     ]
    }
   ],
   "source": [
    "precision_dtree1 = cross_val_score(dtree1, X_test, Y_test, cv=3, scoring='precision_macro')\n",
    "precision_dtree1\n",
    "print(precision_dtree1.mean())\n",
    "print(precision_dtree1.std())"
   ]
  },
  {
   "cell_type": "code",
   "execution_count": 46,
   "metadata": {},
   "outputs": [
    {
     "name": "stdout",
     "output_type": "stream",
     "text": [
      "0.8206806910191894\n",
      "0.0135181130257771\n"
     ]
    }
   ],
   "source": [
    "recall_dtree1 = cross_val_score(dtree1, X_test, Y_test, cv=3, scoring='recall_macro')\n",
    "recall_dtree1\n",
    "print(recall_dtree1.mean())\n",
    "print(recall_dtree1.std())"
   ]
  },
  {
   "cell_type": "code",
   "execution_count": 47,
   "metadata": {},
   "outputs": [
    {
     "name": "stdout",
     "output_type": "stream",
     "text": [
      "0.8203092621617162\n",
      "0.018486562279976526\n"
     ]
    }
   ],
   "source": [
    "f1_dtree1 = cross_val_score(dtree1, X_test, Y_test, cv=3, scoring='f1_macro')\n",
    "f1_dtree1\n",
    "print(f1_dtree1.mean())\n",
    "print(f1_dtree1.std())"
   ]
  },
  {
   "cell_type": "code",
   "execution_count": 48,
   "metadata": {},
   "outputs": [
    {
     "name": "stdout",
     "output_type": "stream",
     "text": [
      "[[83  9  1  0  0  0  3]\n",
      " [ 7 63  1  1  0 11  6]\n",
      " [ 3  3 97  1  0  2  8]\n",
      " [ 0  1  1 98  0  0  0]\n",
      " [ 2  1  0  1 92  0  0]\n",
      " [ 2 10  3  0  0 83  5]\n",
      " [ 1  4  7  1  0  2 83]]\n",
      "                     precision    recall  f1-score   support\n",
      "\n",
      "Insufficient_Weight       0.85      0.86      0.86        96\n",
      "      Normal_Weight       0.69      0.71      0.70        89\n",
      "     Obesity_Type_I       0.88      0.85      0.87       114\n",
      "    Obesity_Type_II       0.96      0.98      0.97       100\n",
      "   Obesity_Type_III       1.00      0.96      0.98        96\n",
      " Overweight_Level_I       0.85      0.81      0.83       103\n",
      "Overweight_Level_II       0.79      0.85      0.82        98\n",
      "\n",
      "           accuracy                           0.86       696\n",
      "          macro avg       0.86      0.86      0.86       696\n",
      "       weighted avg       0.86      0.86      0.86       696\n",
      "\n"
     ]
    }
   ],
   "source": [
    "print(confusion_matrix(Y_test, pred_gini))\n",
    "print(classification_report(Y_test, pred_gini))"
   ]
  },
  {
   "cell_type": "code",
   "execution_count": 49,
   "metadata": {},
   "outputs": [
    {
     "name": "stdout",
     "output_type": "stream",
     "text": [
      "Wall time: 21.9 ms\n"
     ]
    }
   ],
   "source": [
    "%%time\n",
    "dtree2 = DecisionTreeClassifier(criterion='entropy')\n",
    "dtree2.fit(X_train, Y_train).predict(X_test)\n",
    "pred_entropy = dtree2.predict(X_test)"
   ]
  },
  {
   "cell_type": "code",
   "execution_count": 50,
   "metadata": {},
   "outputs": [
    {
     "name": "stdout",
     "output_type": "stream",
     "text": [
      "0.8146580555875907\n",
      "0.009150755788011262\n"
     ]
    }
   ],
   "source": [
    "acc_dtree2 = cross_val_score(dtree2, X_test, Y_test, cv=3, scoring='accuracy')\n",
    "acc_dtree2\n",
    "print(acc_dtree2.mean())\n",
    "print(acc_dtree2.std())"
   ]
  },
  {
   "cell_type": "code",
   "execution_count": 51,
   "metadata": {},
   "outputs": [
    {
     "name": "stdout",
     "output_type": "stream",
     "text": [
      "0.8120136247352364\n",
      "0.007346623955893313\n"
     ]
    }
   ],
   "source": [
    "precision_dtree2 = cross_val_score(dtree2, X_test, Y_test, cv=3, scoring='precision_macro')\n",
    "precision_dtree2\n",
    "print(precision_dtree2.mean())\n",
    "print(precision_dtree2.std())"
   ]
  },
  {
   "cell_type": "code",
   "execution_count": 52,
   "metadata": {},
   "outputs": [
    {
     "name": "stdout",
     "output_type": "stream",
     "text": [
      "0.8239666354084944\n",
      "0.011050653053102818\n"
     ]
    }
   ],
   "source": [
    "recall_dtree2 = cross_val_score(dtree2, X_test, Y_test, cv=3, scoring='recall_macro')\n",
    "recall_dtree2\n",
    "print(recall_dtree2.mean())\n",
    "print(recall_dtree2.std())"
   ]
  },
  {
   "cell_type": "code",
   "execution_count": 53,
   "metadata": {},
   "outputs": [
    {
     "name": "stdout",
     "output_type": "stream",
     "text": [
      "0.8180469032448444\n",
      "0.006329122379041995\n"
     ]
    }
   ],
   "source": [
    "f1_dtree2 = cross_val_score(dtree2, X_test, Y_test, cv=3, scoring='f1_macro')\n",
    "f1_dtree2\n",
    "print(f1_dtree2.mean())\n",
    "print(f1_dtree2.std())"
   ]
  },
  {
   "cell_type": "code",
   "execution_count": 54,
   "metadata": {},
   "outputs": [
    {
     "name": "stdout",
     "output_type": "stream",
     "text": [
      "[[ 85   4   1   3   0   0   3]\n",
      " [  6  54   4   3   1  11  10]\n",
      " [  3   7 101   1   0   1   1]\n",
      " [  2   1   4  93   0   0   0]\n",
      " [  1   1   0   0  94   0   0]\n",
      " [  0  10   1   0   0  89   3]\n",
      " [  0  10   1   0   0   6  81]]\n",
      "                     precision    recall  f1-score   support\n",
      "\n",
      "Insufficient_Weight       0.88      0.89      0.88        96\n",
      "      Normal_Weight       0.62      0.61      0.61        89\n",
      "     Obesity_Type_I       0.90      0.89      0.89       114\n",
      "    Obesity_Type_II       0.93      0.93      0.93       100\n",
      "   Obesity_Type_III       0.99      0.98      0.98        96\n",
      " Overweight_Level_I       0.83      0.86      0.85       103\n",
      "Overweight_Level_II       0.83      0.83      0.83        98\n",
      "\n",
      "           accuracy                           0.86       696\n",
      "          macro avg       0.85      0.85      0.85       696\n",
      "       weighted avg       0.86      0.86      0.86       696\n",
      "\n"
     ]
    }
   ],
   "source": [
    "print(confusion_matrix(Y_test, pred_entropy))\n",
    "print(classification_report(Y_test, pred_entropy))"
   ]
  },
  {
   "cell_type": "markdown",
   "metadata": {},
   "source": [
    "### SVM"
   ]
  },
  {
   "cell_type": "code",
   "execution_count": 55,
   "metadata": {},
   "outputs": [
    {
     "name": "stdout",
     "output_type": "stream",
     "text": [
      "Wall time: 119 ms\n"
     ]
    },
    {
     "name": "stderr",
     "output_type": "stream",
     "text": [
      "C:\\ProgramData\\Anaconda3\\lib\\site-packages\\sklearn\\svm\\base.py:193: FutureWarning: The default value of gamma will change from 'auto' to 'scale' in version 0.22 to account better for unscaled features. Set gamma explicitly to 'auto' or 'scale' to avoid this warning.\n",
      "  \"avoid this warning.\", FutureWarning)\n"
     ]
    }
   ],
   "source": [
    "%%time\n",
    "# RBF\n",
    "from sklearn.svm import SVC\n",
    "svc_rbf = SVC(kernel='rbf',random_state = 0)\n",
    "svc_rbf.fit(X_train,Y_train).predict(X_test)\n",
    "pred_rbf = svc_rbf.predict(X_test)"
   ]
  },
  {
   "cell_type": "code",
   "execution_count": 56,
   "metadata": {},
   "outputs": [
    {
     "name": "stderr",
     "output_type": "stream",
     "text": [
      "C:\\ProgramData\\Anaconda3\\lib\\site-packages\\sklearn\\svm\\base.py:193: FutureWarning: The default value of gamma will change from 'auto' to 'scale' in version 0.22 to account better for unscaled features. Set gamma explicitly to 'auto' or 'scale' to avoid this warning.\n",
      "  \"avoid this warning.\", FutureWarning)\n",
      "C:\\ProgramData\\Anaconda3\\lib\\site-packages\\sklearn\\svm\\base.py:193: FutureWarning: The default value of gamma will change from 'auto' to 'scale' in version 0.22 to account better for unscaled features. Set gamma explicitly to 'auto' or 'scale' to avoid this warning.\n",
      "  \"avoid this warning.\", FutureWarning)\n",
      "C:\\ProgramData\\Anaconda3\\lib\\site-packages\\sklearn\\svm\\base.py:193: FutureWarning: The default value of gamma will change from 'auto' to 'scale' in version 0.22 to account better for unscaled features. Set gamma explicitly to 'auto' or 'scale' to avoid this warning.\n",
      "  \"avoid this warning.\", FutureWarning)\n"
     ]
    },
    {
     "name": "stdout",
     "output_type": "stream",
     "text": [
      "0.7557963539597723\n",
      "0.018601317778979935\n"
     ]
    }
   ],
   "source": [
    "acc_rbf = cross_val_score(svc_rbf, X_test, Y_test, cv=3, scoring='accuracy')\n",
    "acc_rbf\n",
    "print(acc_rbf.mean())\n",
    "print(acc_rbf.std())"
   ]
  },
  {
   "cell_type": "code",
   "execution_count": 57,
   "metadata": {},
   "outputs": [
    {
     "name": "stdout",
     "output_type": "stream",
     "text": [
      "0.7531390818309788\n",
      "0.020783796195513078\n"
     ]
    },
    {
     "name": "stderr",
     "output_type": "stream",
     "text": [
      "C:\\ProgramData\\Anaconda3\\lib\\site-packages\\sklearn\\svm\\base.py:193: FutureWarning: The default value of gamma will change from 'auto' to 'scale' in version 0.22 to account better for unscaled features. Set gamma explicitly to 'auto' or 'scale' to avoid this warning.\n",
      "  \"avoid this warning.\", FutureWarning)\n",
      "C:\\ProgramData\\Anaconda3\\lib\\site-packages\\sklearn\\svm\\base.py:193: FutureWarning: The default value of gamma will change from 'auto' to 'scale' in version 0.22 to account better for unscaled features. Set gamma explicitly to 'auto' or 'scale' to avoid this warning.\n",
      "  \"avoid this warning.\", FutureWarning)\n",
      "C:\\ProgramData\\Anaconda3\\lib\\site-packages\\sklearn\\svm\\base.py:193: FutureWarning: The default value of gamma will change from 'auto' to 'scale' in version 0.22 to account better for unscaled features. Set gamma explicitly to 'auto' or 'scale' to avoid this warning.\n",
      "  \"avoid this warning.\", FutureWarning)\n"
     ]
    }
   ],
   "source": [
    "precision_rbf = cross_val_score(svc_rbf, X_test, Y_test, cv=3, scoring='precision_macro')\n",
    "precision_rbf\n",
    "print(precision_rbf.mean())\n",
    "print(precision_rbf.std())"
   ]
  },
  {
   "cell_type": "code",
   "execution_count": 58,
   "metadata": {},
   "outputs": [
    {
     "name": "stderr",
     "output_type": "stream",
     "text": [
      "C:\\ProgramData\\Anaconda3\\lib\\site-packages\\sklearn\\svm\\base.py:193: FutureWarning: The default value of gamma will change from 'auto' to 'scale' in version 0.22 to account better for unscaled features. Set gamma explicitly to 'auto' or 'scale' to avoid this warning.\n",
      "  \"avoid this warning.\", FutureWarning)\n",
      "C:\\ProgramData\\Anaconda3\\lib\\site-packages\\sklearn\\svm\\base.py:193: FutureWarning: The default value of gamma will change from 'auto' to 'scale' in version 0.22 to account better for unscaled features. Set gamma explicitly to 'auto' or 'scale' to avoid this warning.\n",
      "  \"avoid this warning.\", FutureWarning)\n"
     ]
    },
    {
     "name": "stdout",
     "output_type": "stream",
     "text": [
      "0.7556281413736919\n",
      "0.019136569419624827\n"
     ]
    },
    {
     "name": "stderr",
     "output_type": "stream",
     "text": [
      "C:\\ProgramData\\Anaconda3\\lib\\site-packages\\sklearn\\svm\\base.py:193: FutureWarning: The default value of gamma will change from 'auto' to 'scale' in version 0.22 to account better for unscaled features. Set gamma explicitly to 'auto' or 'scale' to avoid this warning.\n",
      "  \"avoid this warning.\", FutureWarning)\n"
     ]
    }
   ],
   "source": [
    "recall_rbf = cross_val_score(svc_rbf, X_test, Y_test, cv=3, scoring='recall_macro')\n",
    "recall_rbf\n",
    "print(recall_rbf.mean())\n",
    "print(recall_rbf.std())"
   ]
  },
  {
   "cell_type": "code",
   "execution_count": 59,
   "metadata": {},
   "outputs": [
    {
     "name": "stderr",
     "output_type": "stream",
     "text": [
      "C:\\ProgramData\\Anaconda3\\lib\\site-packages\\sklearn\\svm\\base.py:193: FutureWarning: The default value of gamma will change from 'auto' to 'scale' in version 0.22 to account better for unscaled features. Set gamma explicitly to 'auto' or 'scale' to avoid this warning.\n",
      "  \"avoid this warning.\", FutureWarning)\n"
     ]
    },
    {
     "name": "stdout",
     "output_type": "stream",
     "text": [
      "0.7526332652616438\n",
      "0.01921849233852896\n"
     ]
    },
    {
     "name": "stderr",
     "output_type": "stream",
     "text": [
      "C:\\ProgramData\\Anaconda3\\lib\\site-packages\\sklearn\\svm\\base.py:193: FutureWarning: The default value of gamma will change from 'auto' to 'scale' in version 0.22 to account better for unscaled features. Set gamma explicitly to 'auto' or 'scale' to avoid this warning.\n",
      "  \"avoid this warning.\", FutureWarning)\n",
      "C:\\ProgramData\\Anaconda3\\lib\\site-packages\\sklearn\\svm\\base.py:193: FutureWarning: The default value of gamma will change from 'auto' to 'scale' in version 0.22 to account better for unscaled features. Set gamma explicitly to 'auto' or 'scale' to avoid this warning.\n",
      "  \"avoid this warning.\", FutureWarning)\n"
     ]
    }
   ],
   "source": [
    "f1_rbf = cross_val_score(svc_rbf, X_test, Y_test, cv=3, scoring='f1_macro')\n",
    "f1_rbf\n",
    "print(f1_rbf.mean())\n",
    "print(f1_rbf.std())"
   ]
  },
  {
   "cell_type": "code",
   "execution_count": 60,
   "metadata": {},
   "outputs": [
    {
     "name": "stdout",
     "output_type": "stream",
     "text": [
      "[[ 81  14   0   0   0   1   0]\n",
      " [  7  59   2   0   0  12   9]\n",
      " [  0  10 100   2   0   1   1]\n",
      " [  0   4   0  95   0   0   1]\n",
      " [  1   1   0   0  94   0   0]\n",
      " [  1  16   6   0   0  74   6]\n",
      " [  0   8   6   1   0  11  72]]\n",
      "                     precision    recall  f1-score   support\n",
      "\n",
      "Insufficient_Weight       0.90      0.84      0.87        96\n",
      "      Normal_Weight       0.53      0.66      0.59        89\n",
      "     Obesity_Type_I       0.88      0.88      0.88       114\n",
      "    Obesity_Type_II       0.97      0.95      0.96       100\n",
      "   Obesity_Type_III       1.00      0.98      0.99        96\n",
      " Overweight_Level_I       0.75      0.72      0.73       103\n",
      "Overweight_Level_II       0.81      0.73      0.77        98\n",
      "\n",
      "           accuracy                           0.83       696\n",
      "          macro avg       0.83      0.82      0.83       696\n",
      "       weighted avg       0.84      0.83      0.83       696\n",
      "\n"
     ]
    }
   ],
   "source": [
    "print(confusion_matrix(Y_test, pred_rbf))\n",
    "print(classification_report(Y_test, pred_rbf))"
   ]
  },
  {
   "cell_type": "code",
   "execution_count": 61,
   "metadata": {},
   "outputs": [
    {
     "name": "stderr",
     "output_type": "stream",
     "text": [
      "C:\\ProgramData\\Anaconda3\\lib\\site-packages\\sklearn\\svm\\base.py:193: FutureWarning: The default value of gamma will change from 'auto' to 'scale' in version 0.22 to account better for unscaled features. Set gamma explicitly to 'auto' or 'scale' to avoid this warning.\n",
      "  \"avoid this warning.\", FutureWarning)\n"
     ]
    },
    {
     "name": "stdout",
     "output_type": "stream",
     "text": [
      "Wall time: 97.7 ms\n"
     ]
    }
   ],
   "source": [
    "%%time\n",
    "#poly\n",
    "svc_poly = svm.SVC(kernel='poly')\n",
    "svc_poly.fit(X_train, Y_train).predict(X_test)\n",
    "pred_poly= svc_poly.predict(X_test)"
   ]
  },
  {
   "cell_type": "code",
   "execution_count": 62,
   "metadata": {},
   "outputs": [
    {
     "name": "stdout",
     "output_type": "stream",
     "text": [
      "0.7009616986378605\n",
      "0.03016384032636293\n"
     ]
    },
    {
     "name": "stderr",
     "output_type": "stream",
     "text": [
      "C:\\ProgramData\\Anaconda3\\lib\\site-packages\\sklearn\\svm\\base.py:193: FutureWarning: The default value of gamma will change from 'auto' to 'scale' in version 0.22 to account better for unscaled features. Set gamma explicitly to 'auto' or 'scale' to avoid this warning.\n",
      "  \"avoid this warning.\", FutureWarning)\n",
      "C:\\ProgramData\\Anaconda3\\lib\\site-packages\\sklearn\\svm\\base.py:193: FutureWarning: The default value of gamma will change from 'auto' to 'scale' in version 0.22 to account better for unscaled features. Set gamma explicitly to 'auto' or 'scale' to avoid this warning.\n",
      "  \"avoid this warning.\", FutureWarning)\n",
      "C:\\ProgramData\\Anaconda3\\lib\\site-packages\\sklearn\\svm\\base.py:193: FutureWarning: The default value of gamma will change from 'auto' to 'scale' in version 0.22 to account better for unscaled features. Set gamma explicitly to 'auto' or 'scale' to avoid this warning.\n",
      "  \"avoid this warning.\", FutureWarning)\n"
     ]
    }
   ],
   "source": [
    "acc_poly = cross_val_score(svc_poly, X_test, Y_test, cv=3, scoring='accuracy')\n",
    "acc_poly\n",
    "print(acc_poly.mean())\n",
    "print(acc_poly.std())"
   ]
  },
  {
   "cell_type": "code",
   "execution_count": 63,
   "metadata": {},
   "outputs": [
    {
     "name": "stdout",
     "output_type": "stream",
     "text": [
      "0.7318852735335101\n",
      "0.026740471014136295\n"
     ]
    },
    {
     "name": "stderr",
     "output_type": "stream",
     "text": [
      "C:\\ProgramData\\Anaconda3\\lib\\site-packages\\sklearn\\svm\\base.py:193: FutureWarning: The default value of gamma will change from 'auto' to 'scale' in version 0.22 to account better for unscaled features. Set gamma explicitly to 'auto' or 'scale' to avoid this warning.\n",
      "  \"avoid this warning.\", FutureWarning)\n",
      "C:\\ProgramData\\Anaconda3\\lib\\site-packages\\sklearn\\svm\\base.py:193: FutureWarning: The default value of gamma will change from 'auto' to 'scale' in version 0.22 to account better for unscaled features. Set gamma explicitly to 'auto' or 'scale' to avoid this warning.\n",
      "  \"avoid this warning.\", FutureWarning)\n",
      "C:\\ProgramData\\Anaconda3\\lib\\site-packages\\sklearn\\svm\\base.py:193: FutureWarning: The default value of gamma will change from 'auto' to 'scale' in version 0.22 to account better for unscaled features. Set gamma explicitly to 'auto' or 'scale' to avoid this warning.\n",
      "  \"avoid this warning.\", FutureWarning)\n"
     ]
    }
   ],
   "source": [
    "precision_poly = cross_val_score(svc_poly, X_test, Y_test, cv=3, scoring='precision_macro')\n",
    "precision_poly\n",
    "print(precision_poly.mean())\n",
    "print(precision_poly.std())"
   ]
  },
  {
   "cell_type": "code",
   "execution_count": 64,
   "metadata": {},
   "outputs": [
    {
     "name": "stderr",
     "output_type": "stream",
     "text": [
      "C:\\ProgramData\\Anaconda3\\lib\\site-packages\\sklearn\\svm\\base.py:193: FutureWarning: The default value of gamma will change from 'auto' to 'scale' in version 0.22 to account better for unscaled features. Set gamma explicitly to 'auto' or 'scale' to avoid this warning.\n",
      "  \"avoid this warning.\", FutureWarning)\n",
      "C:\\ProgramData\\Anaconda3\\lib\\site-packages\\sklearn\\svm\\base.py:193: FutureWarning: The default value of gamma will change from 'auto' to 'scale' in version 0.22 to account better for unscaled features. Set gamma explicitly to 'auto' or 'scale' to avoid this warning.\n",
      "  \"avoid this warning.\", FutureWarning)\n",
      "C:\\ProgramData\\Anaconda3\\lib\\site-packages\\sklearn\\svm\\base.py:193: FutureWarning: The default value of gamma will change from 'auto' to 'scale' in version 0.22 to account better for unscaled features. Set gamma explicitly to 'auto' or 'scale' to avoid this warning.\n",
      "  \"avoid this warning.\", FutureWarning)\n"
     ]
    },
    {
     "name": "stdout",
     "output_type": "stream",
     "text": [
      "0.6952525887437964\n",
      "0.030096047609004733\n"
     ]
    }
   ],
   "source": [
    "recall_poly = cross_val_score(svc_poly, X_test, Y_test, cv=3, scoring='recall_macro')\n",
    "recall_poly\n",
    "print(recall_poly.mean())\n",
    "print(recall_poly.std())"
   ]
  },
  {
   "cell_type": "code",
   "execution_count": 65,
   "metadata": {},
   "outputs": [
    {
     "name": "stderr",
     "output_type": "stream",
     "text": [
      "C:\\ProgramData\\Anaconda3\\lib\\site-packages\\sklearn\\svm\\base.py:193: FutureWarning: The default value of gamma will change from 'auto' to 'scale' in version 0.22 to account better for unscaled features. Set gamma explicitly to 'auto' or 'scale' to avoid this warning.\n",
      "  \"avoid this warning.\", FutureWarning)\n",
      "C:\\ProgramData\\Anaconda3\\lib\\site-packages\\sklearn\\svm\\base.py:193: FutureWarning: The default value of gamma will change from 'auto' to 'scale' in version 0.22 to account better for unscaled features. Set gamma explicitly to 'auto' or 'scale' to avoid this warning.\n",
      "  \"avoid this warning.\", FutureWarning)\n",
      "C:\\ProgramData\\Anaconda3\\lib\\site-packages\\sklearn\\svm\\base.py:193: FutureWarning: The default value of gamma will change from 'auto' to 'scale' in version 0.22 to account better for unscaled features. Set gamma explicitly to 'auto' or 'scale' to avoid this warning.\n",
      "  \"avoid this warning.\", FutureWarning)\n"
     ]
    },
    {
     "name": "stdout",
     "output_type": "stream",
     "text": [
      "0.6884932868991364\n",
      "0.03000124396005371\n"
     ]
    }
   ],
   "source": [
    "f1_poly = cross_val_score(svc_poly, X_test, Y_test, cv=3, scoring='f1_macro')\n",
    "f1_poly\n",
    "print(f1_poly.mean())\n",
    "print(f1_poly.std())"
   ]
  },
  {
   "cell_type": "code",
   "execution_count": 66,
   "metadata": {},
   "outputs": [
    {
     "name": "stdout",
     "output_type": "stream",
     "text": [
      "[[ 85   4   1   3   0   0   3]\n",
      " [  6  54   4   3   1  11  10]\n",
      " [  3   7 101   1   0   1   1]\n",
      " [  2   1   4  93   0   0   0]\n",
      " [  1   1   0   0  94   0   0]\n",
      " [  0  10   1   0   0  89   3]\n",
      " [  0  10   1   0   0   6  81]]\n",
      "                     precision    recall  f1-score   support\n",
      "\n",
      "Insufficient_Weight       0.88      0.89      0.88        96\n",
      "      Normal_Weight       0.62      0.61      0.61        89\n",
      "     Obesity_Type_I       0.90      0.89      0.89       114\n",
      "    Obesity_Type_II       0.93      0.93      0.93       100\n",
      "   Obesity_Type_III       0.99      0.98      0.98        96\n",
      " Overweight_Level_I       0.83      0.86      0.85       103\n",
      "Overweight_Level_II       0.83      0.83      0.83        98\n",
      "\n",
      "           accuracy                           0.86       696\n",
      "          macro avg       0.85      0.85      0.85       696\n",
      "       weighted avg       0.86      0.86      0.86       696\n",
      "\n"
     ]
    }
   ],
   "source": [
    "print(confusion_matrix(Y_test, pred_entropy))\n",
    "print(classification_report(Y_test, pred_entropy))"
   ]
  },
  {
   "cell_type": "code",
   "execution_count": 67,
   "metadata": {},
   "outputs": [
    {
     "name": "stderr",
     "output_type": "stream",
     "text": [
      "C:\\ProgramData\\Anaconda3\\lib\\site-packages\\sklearn\\svm\\base.py:193: FutureWarning: The default value of gamma will change from 'auto' to 'scale' in version 0.22 to account better for unscaled features. Set gamma explicitly to 'auto' or 'scale' to avoid this warning.\n",
      "  \"avoid this warning.\", FutureWarning)\n"
     ]
    },
    {
     "name": "stdout",
     "output_type": "stream",
     "text": [
      "Wall time: 137 ms\n"
     ]
    }
   ],
   "source": [
    "%%time\n",
    "#sigmoid\n",
    "svc_sigmoid = svm.SVC(kernel='sigmoid')\n",
    "svc_sigmoid.fit(X_train, Y_train).predict(X_test)\n",
    "pred_sigmoid= svc_sigmoid.predict(X_test)"
   ]
  },
  {
   "cell_type": "code",
   "execution_count": 68,
   "metadata": {},
   "outputs": [
    {
     "name": "stderr",
     "output_type": "stream",
     "text": [
      "C:\\ProgramData\\Anaconda3\\lib\\site-packages\\sklearn\\svm\\base.py:193: FutureWarning: The default value of gamma will change from 'auto' to 'scale' in version 0.22 to account better for unscaled features. Set gamma explicitly to 'auto' or 'scale' to avoid this warning.\n",
      "  \"avoid this warning.\", FutureWarning)\n",
      "C:\\ProgramData\\Anaconda3\\lib\\site-packages\\sklearn\\svm\\base.py:193: FutureWarning: The default value of gamma will change from 'auto' to 'scale' in version 0.22 to account better for unscaled features. Set gamma explicitly to 'auto' or 'scale' to avoid this warning.\n",
      "  \"avoid this warning.\", FutureWarning)\n"
     ]
    },
    {
     "name": "stdout",
     "output_type": "stream",
     "text": [
      "0.600628959024761\n",
      "0.01117281176518717\n"
     ]
    },
    {
     "name": "stderr",
     "output_type": "stream",
     "text": [
      "C:\\ProgramData\\Anaconda3\\lib\\site-packages\\sklearn\\svm\\base.py:193: FutureWarning: The default value of gamma will change from 'auto' to 'scale' in version 0.22 to account better for unscaled features. Set gamma explicitly to 'auto' or 'scale' to avoid this warning.\n",
      "  \"avoid this warning.\", FutureWarning)\n"
     ]
    }
   ],
   "source": [
    "acc_sig = cross_val_score(svc_sigmoid, X_test, Y_test, cv=3, scoring='accuracy')\n",
    "acc_sig\n",
    "print(acc_sig.mean())\n",
    "print(acc_sig.std())"
   ]
  },
  {
   "cell_type": "code",
   "execution_count": 69,
   "metadata": {},
   "outputs": [
    {
     "name": "stdout",
     "output_type": "stream",
     "text": [
      "0.5877997723953041\n",
      "0.018628793317890916\n"
     ]
    },
    {
     "name": "stderr",
     "output_type": "stream",
     "text": [
      "C:\\ProgramData\\Anaconda3\\lib\\site-packages\\sklearn\\svm\\base.py:193: FutureWarning: The default value of gamma will change from 'auto' to 'scale' in version 0.22 to account better for unscaled features. Set gamma explicitly to 'auto' or 'scale' to avoid this warning.\n",
      "  \"avoid this warning.\", FutureWarning)\n",
      "C:\\ProgramData\\Anaconda3\\lib\\site-packages\\sklearn\\svm\\base.py:193: FutureWarning: The default value of gamma will change from 'auto' to 'scale' in version 0.22 to account better for unscaled features. Set gamma explicitly to 'auto' or 'scale' to avoid this warning.\n",
      "  \"avoid this warning.\", FutureWarning)\n",
      "C:\\ProgramData\\Anaconda3\\lib\\site-packages\\sklearn\\svm\\base.py:193: FutureWarning: The default value of gamma will change from 'auto' to 'scale' in version 0.22 to account better for unscaled features. Set gamma explicitly to 'auto' or 'scale' to avoid this warning.\n",
      "  \"avoid this warning.\", FutureWarning)\n"
     ]
    }
   ],
   "source": [
    "precision_sig = cross_val_score(svc_sigmoid, X_test, Y_test, cv=3, scoring='precision_macro')\n",
    "precision_sig\n",
    "print(precision_sig.mean())\n",
    "print(precision_sig.std())"
   ]
  },
  {
   "cell_type": "code",
   "execution_count": 70,
   "metadata": {},
   "outputs": [
    {
     "name": "stderr",
     "output_type": "stream",
     "text": [
      "C:\\ProgramData\\Anaconda3\\lib\\site-packages\\sklearn\\svm\\base.py:193: FutureWarning: The default value of gamma will change from 'auto' to 'scale' in version 0.22 to account better for unscaled features. Set gamma explicitly to 'auto' or 'scale' to avoid this warning.\n",
      "  \"avoid this warning.\", FutureWarning)\n",
      "C:\\ProgramData\\Anaconda3\\lib\\site-packages\\sklearn\\svm\\base.py:193: FutureWarning: The default value of gamma will change from 'auto' to 'scale' in version 0.22 to account better for unscaled features. Set gamma explicitly to 'auto' or 'scale' to avoid this warning.\n",
      "  \"avoid this warning.\", FutureWarning)\n"
     ]
    },
    {
     "name": "stdout",
     "output_type": "stream",
     "text": [
      "0.5990562675876049\n",
      "0.009898533183368325\n"
     ]
    },
    {
     "name": "stderr",
     "output_type": "stream",
     "text": [
      "C:\\ProgramData\\Anaconda3\\lib\\site-packages\\sklearn\\svm\\base.py:193: FutureWarning: The default value of gamma will change from 'auto' to 'scale' in version 0.22 to account better for unscaled features. Set gamma explicitly to 'auto' or 'scale' to avoid this warning.\n",
      "  \"avoid this warning.\", FutureWarning)\n"
     ]
    }
   ],
   "source": [
    "recall_sig = cross_val_score(svc_sigmoid, X_test, Y_test, cv=3, scoring='recall_macro')\n",
    "recall_sig\n",
    "print(recall_sig.mean())\n",
    "print(recall_sig.std())"
   ]
  },
  {
   "cell_type": "code",
   "execution_count": 71,
   "metadata": {},
   "outputs": [
    {
     "name": "stderr",
     "output_type": "stream",
     "text": [
      "C:\\ProgramData\\Anaconda3\\lib\\site-packages\\sklearn\\svm\\base.py:193: FutureWarning: The default value of gamma will change from 'auto' to 'scale' in version 0.22 to account better for unscaled features. Set gamma explicitly to 'auto' or 'scale' to avoid this warning.\n",
      "  \"avoid this warning.\", FutureWarning)\n"
     ]
    },
    {
     "name": "stdout",
     "output_type": "stream",
     "text": [
      "0.5879910071669845\n",
      "0.01815050935956368\n"
     ]
    },
    {
     "name": "stderr",
     "output_type": "stream",
     "text": [
      "C:\\ProgramData\\Anaconda3\\lib\\site-packages\\sklearn\\svm\\base.py:193: FutureWarning: The default value of gamma will change from 'auto' to 'scale' in version 0.22 to account better for unscaled features. Set gamma explicitly to 'auto' or 'scale' to avoid this warning.\n",
      "  \"avoid this warning.\", FutureWarning)\n",
      "C:\\ProgramData\\Anaconda3\\lib\\site-packages\\sklearn\\svm\\base.py:193: FutureWarning: The default value of gamma will change from 'auto' to 'scale' in version 0.22 to account better for unscaled features. Set gamma explicitly to 'auto' or 'scale' to avoid this warning.\n",
      "  \"avoid this warning.\", FutureWarning)\n"
     ]
    }
   ],
   "source": [
    "f1_sig = cross_val_score(svc_sigmoid, X_test, Y_test, cv=3, scoring='f1_macro')\n",
    "f1_sig\n",
    "print(f1_sig.mean())\n",
    "print(f1_sig.std())"
   ]
  },
  {
   "cell_type": "code",
   "execution_count": 72,
   "metadata": {},
   "outputs": [
    {
     "name": "stdout",
     "output_type": "stream",
     "text": [
      "[[ 85   4   1   3   0   0   3]\n",
      " [  6  54   4   3   1  11  10]\n",
      " [  3   7 101   1   0   1   1]\n",
      " [  2   1   4  93   0   0   0]\n",
      " [  1   1   0   0  94   0   0]\n",
      " [  0  10   1   0   0  89   3]\n",
      " [  0  10   1   0   0   6  81]]\n",
      "                     precision    recall  f1-score   support\n",
      "\n",
      "Insufficient_Weight       0.88      0.89      0.88        96\n",
      "      Normal_Weight       0.62      0.61      0.61        89\n",
      "     Obesity_Type_I       0.90      0.89      0.89       114\n",
      "    Obesity_Type_II       0.93      0.93      0.93       100\n",
      "   Obesity_Type_III       0.99      0.98      0.98        96\n",
      " Overweight_Level_I       0.83      0.86      0.85       103\n",
      "Overweight_Level_II       0.83      0.83      0.83        98\n",
      "\n",
      "           accuracy                           0.86       696\n",
      "          macro avg       0.85      0.85      0.85       696\n",
      "       weighted avg       0.86      0.86      0.86       696\n",
      "\n"
     ]
    }
   ],
   "source": [
    "print(confusion_matrix(Y_test, pred_entropy))\n",
    "print(classification_report(Y_test, pred_entropy))"
   ]
  },
  {
   "cell_type": "markdown",
   "metadata": {},
   "source": [
    "### Naive Bayes"
   ]
  },
  {
   "cell_type": "code",
   "execution_count": 73,
   "metadata": {},
   "outputs": [
    {
     "name": "stdout",
     "output_type": "stream",
     "text": [
      "Wall time: 7.98 ms\n"
     ]
    }
   ],
   "source": [
    "%%time\n",
    "gnb = GaussianNB()\n",
    "pred_gnb = gnb.fit(X_train, Y_train).predict(X_test)"
   ]
  },
  {
   "cell_type": "code",
   "execution_count": 74,
   "metadata": {},
   "outputs": [
    {
     "name": "stdout",
     "output_type": "stream",
     "text": [
      "0.4366676704382851\n",
      "0.0251304440502357\n"
     ]
    }
   ],
   "source": [
    "acc_NB = cross_val_score(gnb, X_test, Y_test, cv=3, scoring='accuracy')\n",
    "acc_NB\n",
    "print(acc_NB.mean())\n",
    "print(acc_NB.std())"
   ]
  },
  {
   "cell_type": "code",
   "execution_count": 75,
   "metadata": {},
   "outputs": [
    {
     "name": "stdout",
     "output_type": "stream",
     "text": [
      "0.41651456415855725\n",
      "0.003512881651415888\n"
     ]
    },
    {
     "name": "stderr",
     "output_type": "stream",
     "text": [
      "C:\\ProgramData\\Anaconda3\\lib\\site-packages\\sklearn\\metrics\\classification.py:1437: UndefinedMetricWarning: Precision is ill-defined and being set to 0.0 in labels with no predicted samples.\n",
      "  'precision', 'predicted', average, warn_for)\n"
     ]
    }
   ],
   "source": [
    "precision_NB = cross_val_score(gnb, X_test, Y_test, cv=3, scoring='precision_macro')\n",
    "precision_NB\n",
    "print(precision_NB.mean())\n",
    "print(precision_NB.std())"
   ]
  },
  {
   "cell_type": "code",
   "execution_count": 76,
   "metadata": {},
   "outputs": [
    {
     "name": "stdout",
     "output_type": "stream",
     "text": [
      "0.4408527809187801\n",
      "0.030637941879499045\n"
     ]
    }
   ],
   "source": [
    "recall_NB = cross_val_score(gnb, X_test, Y_test, cv=3, scoring='recall_macro')\n",
    "recall_NB\n",
    "print(recall_NB.mean())\n",
    "print(recall_NB.std())"
   ]
  },
  {
   "cell_type": "code",
   "execution_count": 77,
   "metadata": {},
   "outputs": [
    {
     "name": "stdout",
     "output_type": "stream",
     "text": [
      "0.33966400637272365\n",
      "0.030961850864177538\n"
     ]
    },
    {
     "name": "stderr",
     "output_type": "stream",
     "text": [
      "C:\\ProgramData\\Anaconda3\\lib\\site-packages\\sklearn\\metrics\\classification.py:1437: UndefinedMetricWarning: F-score is ill-defined and being set to 0.0 in labels with no predicted samples.\n",
      "  'precision', 'predicted', average, warn_for)\n"
     ]
    }
   ],
   "source": [
    "f1_NB = cross_val_score(gnb, X_test, Y_test, cv=3, scoring='f1_macro')\n",
    "f1_NB\n",
    "print(f1_NB.mean())\n",
    "print(f1_NB.std())"
   ]
  },
  {
   "cell_type": "code",
   "execution_count": 78,
   "metadata": {},
   "outputs": [
    {
     "name": "stdout",
     "output_type": "stream",
     "text": [
      "[[79  6  2  2  0  3  4]\n",
      " [29 23  5  9  0  7 16]\n",
      " [ 3  2 43 55  3  3  5]\n",
      " [ 0  3  0 94  0  0  3]\n",
      " [ 2  0  0  0 94  0  0]\n",
      " [ 5 11 22 30  0 27  8]\n",
      " [ 1  6 17 45  0  3 26]]\n",
      "                     precision    recall  f1-score   support\n",
      "\n",
      "Insufficient_Weight       0.66      0.82      0.73        96\n",
      "      Normal_Weight       0.45      0.26      0.33        89\n",
      "     Obesity_Type_I       0.48      0.38      0.42       114\n",
      "    Obesity_Type_II       0.40      0.94      0.56       100\n",
      "   Obesity_Type_III       0.97      0.98      0.97        96\n",
      " Overweight_Level_I       0.63      0.26      0.37       103\n",
      "Overweight_Level_II       0.42      0.27      0.33        98\n",
      "\n",
      "           accuracy                           0.55       696\n",
      "          macro avg       0.57      0.56      0.53       696\n",
      "       weighted avg       0.57      0.55      0.53       696\n",
      "\n"
     ]
    }
   ],
   "source": [
    "print(confusion_matrix(Y_test, pred_gnb))\n",
    "print(classification_report(Y_test, pred_gnb))"
   ]
  },
  {
   "cell_type": "markdown",
   "metadata": {},
   "source": [
    "### Ensemble model : Adaboost"
   ]
  },
  {
   "cell_type": "code",
   "execution_count": 79,
   "metadata": {},
   "outputs": [
    {
     "name": "stdout",
     "output_type": "stream",
     "text": [
      "Wall time: 34.9 ms\n"
     ]
    },
    {
     "data": {
      "text/plain": [
       "array(['Overweight_Level_I', 'Overweight_Level_I', 'Insufficient_Weight',\n",
       "       'Obesity_Type_II', 'Obesity_Type_II', 'Obesity_Type_II',\n",
       "       'Insufficient_Weight', 'Overweight_Level_I', 'Overweight_Level_I',\n",
       "       'Insufficient_Weight', 'Obesity_Type_II', 'Insufficient_Weight',\n",
       "       'Normal_Weight', 'Overweight_Level_I', 'Overweight_Level_I',\n",
       "       'Overweight_Level_I', 'Normal_Weight', 'Normal_Weight',\n",
       "       'Obesity_Type_II', 'Insufficient_Weight', 'Insufficient_Weight',\n",
       "       'Normal_Weight', 'Overweight_Level_I', 'Obesity_Type_II',\n",
       "       'Obesity_Type_II', 'Obesity_Type_II', 'Insufficient_Weight',\n",
       "       'Overweight_Level_I', 'Overweight_Level_I', 'Overweight_Level_I',\n",
       "       'Obesity_Type_II', 'Insufficient_Weight', 'Overweight_Level_I',\n",
       "       'Obesity_Type_II', 'Insufficient_Weight', 'Obesity_Type_II',\n",
       "       'Obesity_Type_II', 'Obesity_Type_III', 'Insufficient_Weight',\n",
       "       'Obesity_Type_II', 'Overweight_Level_I', 'Overweight_Level_I',\n",
       "       'Obesity_Type_II', 'Obesity_Type_II', 'Overweight_Level_I',\n",
       "       'Overweight_Level_I', 'Overweight_Level_I', 'Insufficient_Weight',\n",
       "       'Overweight_Level_I', 'Obesity_Type_II', 'Obesity_Type_II',\n",
       "       'Obesity_Type_II', 'Overweight_Level_I', 'Normal_Weight',\n",
       "       'Obesity_Type_II', 'Overweight_Level_I', 'Obesity_Type_II',\n",
       "       'Overweight_Level_I', 'Obesity_Type_II', 'Overweight_Level_I',\n",
       "       'Insufficient_Weight', 'Obesity_Type_II', 'Overweight_Level_I',\n",
       "       'Overweight_Level_I', 'Overweight_Level_I', 'Overweight_Level_I',\n",
       "       'Overweight_Level_I', 'Overweight_Level_I', 'Normal_Weight',\n",
       "       'Obesity_Type_II', 'Obesity_Type_II', 'Overweight_Level_I',\n",
       "       'Insufficient_Weight', 'Normal_Weight', 'Normal_Weight',\n",
       "       'Overweight_Level_I', 'Overweight_Level_I', 'Obesity_Type_II',\n",
       "       'Obesity_Type_II', 'Overweight_Level_I', 'Normal_Weight',\n",
       "       'Overweight_Level_I', 'Obesity_Type_II', 'Overweight_Level_I',\n",
       "       'Overweight_Level_I', 'Obesity_Type_II', 'Obesity_Type_II',\n",
       "       'Overweight_Level_I', 'Overweight_Level_I', 'Obesity_Type_II',\n",
       "       'Overweight_Level_I', 'Obesity_Type_II', 'Normal_Weight',\n",
       "       'Obesity_Type_II', 'Obesity_Type_II', 'Obesity_Type_II',\n",
       "       'Overweight_Level_I', 'Overweight_Level_I', 'Overweight_Level_I',\n",
       "       'Overweight_Level_I', 'Overweight_Level_I', 'Insufficient_Weight',\n",
       "       'Overweight_Level_I', 'Obesity_Type_II', 'Insufficient_Weight',\n",
       "       'Insufficient_Weight', 'Overweight_Level_I', 'Insufficient_Weight',\n",
       "       'Insufficient_Weight', 'Overweight_Level_I', 'Obesity_Type_II',\n",
       "       'Obesity_Type_II', 'Overweight_Level_I', 'Overweight_Level_I',\n",
       "       'Overweight_Level_I', 'Obesity_Type_II', 'Obesity_Type_II',\n",
       "       'Overweight_Level_I', 'Overweight_Level_I', 'Obesity_Type_II',\n",
       "       'Overweight_Level_I', 'Obesity_Type_II', 'Overweight_Level_I',\n",
       "       'Obesity_Type_II', 'Insufficient_Weight', 'Obesity_Type_II',\n",
       "       'Obesity_Type_II', 'Obesity_Type_II', 'Insufficient_Weight',\n",
       "       'Overweight_Level_I', 'Obesity_Type_II', 'Overweight_Level_I',\n",
       "       'Overweight_Level_I', 'Obesity_Type_II', 'Obesity_Type_II',\n",
       "       'Overweight_Level_I', 'Obesity_Type_II', 'Overweight_Level_I',\n",
       "       'Obesity_Type_II', 'Insufficient_Weight', 'Overweight_Level_I',\n",
       "       'Obesity_Type_II', 'Overweight_Level_I', 'Obesity_Type_II',\n",
       "       'Insufficient_Weight', 'Obesity_Type_II', 'Overweight_Level_I',\n",
       "       'Insufficient_Weight', 'Overweight_Level_I', 'Insufficient_Weight',\n",
       "       'Obesity_Type_II', 'Obesity_Type_II', 'Overweight_Level_I',\n",
       "       'Overweight_Level_I', 'Overweight_Level_I', 'Overweight_Level_I',\n",
       "       'Overweight_Level_I', 'Overweight_Level_I', 'Obesity_Type_II',\n",
       "       'Overweight_Level_I', 'Normal_Weight', 'Overweight_Level_I',\n",
       "       'Overweight_Level_I', 'Obesity_Type_II', 'Normal_Weight',\n",
       "       'Overweight_Level_I', 'Overweight_Level_I', 'Insufficient_Weight',\n",
       "       'Overweight_Level_I', 'Obesity_Type_II', 'Insufficient_Weight',\n",
       "       'Overweight_Level_I', 'Obesity_Type_II', 'Normal_Weight',\n",
       "       'Obesity_Type_II', 'Overweight_Level_I', 'Overweight_Level_I',\n",
       "       'Overweight_Level_I', 'Overweight_Level_I', 'Obesity_Type_II',\n",
       "       'Insufficient_Weight', 'Obesity_Type_II', 'Obesity_Type_II',\n",
       "       'Obesity_Type_II', 'Overweight_Level_I', 'Overweight_Level_I',\n",
       "       'Normal_Weight', 'Obesity_Type_II', 'Overweight_Level_I',\n",
       "       'Overweight_Level_I', 'Overweight_Level_I', 'Insufficient_Weight',\n",
       "       'Normal_Weight', 'Obesity_Type_II', 'Obesity_Type_II',\n",
       "       'Insufficient_Weight', 'Obesity_Type_II', 'Overweight_Level_I',\n",
       "       'Overweight_Level_I', 'Overweight_Level_I', 'Normal_Weight',\n",
       "       'Insufficient_Weight', 'Overweight_Level_I', 'Overweight_Level_I',\n",
       "       'Normal_Weight', 'Insufficient_Weight', 'Overweight_Level_I',\n",
       "       'Obesity_Type_II', 'Obesity_Type_II', 'Obesity_Type_II',\n",
       "       'Obesity_Type_II', 'Obesity_Type_II', 'Obesity_Type_II',\n",
       "       'Obesity_Type_II', 'Insufficient_Weight', 'Overweight_Level_I',\n",
       "       'Insufficient_Weight', 'Normal_Weight', 'Overweight_Level_I',\n",
       "       'Overweight_Level_I', 'Insufficient_Weight', 'Overweight_Level_I',\n",
       "       'Overweight_Level_I', 'Obesity_Type_II', 'Insufficient_Weight',\n",
       "       'Overweight_Level_I', 'Overweight_Level_I', 'Overweight_Level_I',\n",
       "       'Overweight_Level_I', 'Overweight_Level_I', 'Obesity_Type_II',\n",
       "       'Obesity_Type_II', 'Overweight_Level_I', 'Obesity_Type_II',\n",
       "       'Overweight_Level_I', 'Overweight_Level_I', 'Insufficient_Weight',\n",
       "       'Overweight_Level_I', 'Obesity_Type_III', 'Overweight_Level_I',\n",
       "       'Overweight_Level_I', 'Normal_Weight', 'Obesity_Type_II',\n",
       "       'Overweight_Level_I', 'Overweight_Level_I', 'Obesity_Type_II',\n",
       "       'Insufficient_Weight', 'Overweight_Level_I', 'Obesity_Type_II',\n",
       "       'Overweight_Level_I', 'Insufficient_Weight', 'Obesity_Type_II',\n",
       "       'Obesity_Type_II', 'Overweight_Level_I', 'Insufficient_Weight',\n",
       "       'Insufficient_Weight', 'Insufficient_Weight',\n",
       "       'Insufficient_Weight', 'Overweight_Level_I', 'Normal_Weight',\n",
       "       'Overweight_Level_I', 'Overweight_Level_I', 'Insufficient_Weight',\n",
       "       'Overweight_Level_I', 'Obesity_Type_II', 'Overweight_Level_I',\n",
       "       'Obesity_Type_II', 'Obesity_Type_II', 'Obesity_Type_II',\n",
       "       'Overweight_Level_I', 'Insufficient_Weight', 'Insufficient_Weight',\n",
       "       'Overweight_Level_I', 'Overweight_Level_I', 'Overweight_Level_I',\n",
       "       'Obesity_Type_II', 'Obesity_Type_II', 'Overweight_Level_I',\n",
       "       'Overweight_Level_I', 'Overweight_Level_I', 'Overweight_Level_I',\n",
       "       'Overweight_Level_I', 'Obesity_Type_II', 'Normal_Weight',\n",
       "       'Normal_Weight', 'Obesity_Type_II', 'Obesity_Type_II',\n",
       "       'Overweight_Level_I', 'Overweight_Level_I', 'Normal_Weight',\n",
       "       'Obesity_Type_II', 'Overweight_Level_I', 'Obesity_Type_II',\n",
       "       'Normal_Weight', 'Insufficient_Weight', 'Obesity_Type_II',\n",
       "       'Normal_Weight', 'Overweight_Level_I', 'Overweight_Level_I',\n",
       "       'Obesity_Type_II', 'Overweight_Level_I', 'Overweight_Level_I',\n",
       "       'Overweight_Level_I', 'Obesity_Type_II', 'Obesity_Type_II',\n",
       "       'Overweight_Level_I', 'Overweight_Level_I', 'Insufficient_Weight',\n",
       "       'Overweight_Level_I', 'Overweight_Level_I', 'Overweight_Level_I',\n",
       "       'Overweight_Level_I', 'Overweight_Level_I', 'Overweight_Level_I',\n",
       "       'Overweight_Level_I', 'Overweight_Level_I', 'Overweight_Level_I',\n",
       "       'Overweight_Level_I', 'Overweight_Level_I', 'Insufficient_Weight',\n",
       "       'Overweight_Level_I', 'Overweight_Level_I', 'Overweight_Level_I',\n",
       "       'Overweight_Level_I', 'Overweight_Level_I', 'Normal_Weight',\n",
       "       'Obesity_Type_II', 'Insufficient_Weight', 'Normal_Weight',\n",
       "       'Obesity_Type_II', 'Overweight_Level_I', 'Overweight_Level_I',\n",
       "       'Obesity_Type_II', 'Overweight_Level_I', 'Overweight_Level_I',\n",
       "       'Obesity_Type_II', 'Obesity_Type_II', 'Insufficient_Weight',\n",
       "       'Overweight_Level_I', 'Obesity_Type_II', 'Insufficient_Weight',\n",
       "       'Obesity_Type_II', 'Insufficient_Weight', 'Overweight_Level_I',\n",
       "       'Normal_Weight', 'Obesity_Type_II', 'Overweight_Level_I',\n",
       "       'Overweight_Level_I', 'Obesity_Type_II', 'Normal_Weight',\n",
       "       'Overweight_Level_I', 'Overweight_Level_I', 'Obesity_Type_II',\n",
       "       'Overweight_Level_I', 'Overweight_Level_I', 'Insufficient_Weight',\n",
       "       'Obesity_Type_II', 'Overweight_Level_I', 'Overweight_Level_I',\n",
       "       'Normal_Weight', 'Overweight_Level_I', 'Overweight_Level_I',\n",
       "       'Overweight_Level_I', 'Overweight_Level_I', 'Overweight_Level_I',\n",
       "       'Overweight_Level_I', 'Overweight_Level_I', 'Insufficient_Weight',\n",
       "       'Obesity_Type_II', 'Insufficient_Weight', 'Overweight_Level_I',\n",
       "       'Overweight_Level_I', 'Overweight_Level_I', 'Overweight_Level_I',\n",
       "       'Insufficient_Weight', 'Insufficient_Weight', 'Obesity_Type_II',\n",
       "       'Overweight_Level_I', 'Insufficient_Weight', 'Obesity_Type_II',\n",
       "       'Obesity_Type_II', 'Insufficient_Weight', 'Overweight_Level_I',\n",
       "       'Overweight_Level_I', 'Obesity_Type_II', 'Overweight_Level_I',\n",
       "       'Overweight_Level_I', 'Overweight_Level_I', 'Obesity_Type_II',\n",
       "       'Overweight_Level_I', 'Overweight_Level_I', 'Obesity_Type_II',\n",
       "       'Obesity_Type_II', 'Overweight_Level_I', 'Obesity_Type_II',\n",
       "       'Overweight_Level_I', 'Obesity_Type_II', 'Overweight_Level_I',\n",
       "       'Obesity_Type_II', 'Overweight_Level_I', 'Obesity_Type_II',\n",
       "       'Normal_Weight', 'Obesity_Type_II', 'Overweight_Level_I',\n",
       "       'Overweight_Level_I', 'Overweight_Level_I', 'Obesity_Type_II',\n",
       "       'Obesity_Type_II', 'Overweight_Level_I', 'Overweight_Level_I',\n",
       "       'Overweight_Level_I', 'Overweight_Level_I', 'Obesity_Type_III',\n",
       "       'Obesity_Type_II', 'Overweight_Level_I', 'Obesity_Type_II',\n",
       "       'Overweight_Level_I', 'Insufficient_Weight', 'Overweight_Level_I',\n",
       "       'Overweight_Level_I', 'Overweight_Level_I', 'Insufficient_Weight',\n",
       "       'Overweight_Level_I', 'Insufficient_Weight', 'Obesity_Type_II',\n",
       "       'Overweight_Level_I', 'Overweight_Level_I', 'Insufficient_Weight',\n",
       "       'Overweight_Level_I', 'Obesity_Type_III', 'Overweight_Level_I',\n",
       "       'Overweight_Level_I', 'Obesity_Type_II', 'Overweight_Level_I',\n",
       "       'Obesity_Type_II', 'Overweight_Level_I', 'Insufficient_Weight',\n",
       "       'Overweight_Level_I', 'Obesity_Type_II', 'Overweight_Level_I',\n",
       "       'Insufficient_Weight', 'Obesity_Type_II', 'Overweight_Level_I',\n",
       "       'Obesity_Type_II', 'Obesity_Type_II', 'Overweight_Level_I',\n",
       "       'Overweight_Level_I', 'Obesity_Type_II', 'Overweight_Level_I',\n",
       "       'Insufficient_Weight', 'Overweight_Level_I', 'Overweight_Level_I',\n",
       "       'Overweight_Level_I', 'Overweight_Level_I', 'Overweight_Level_I',\n",
       "       'Overweight_Level_I', 'Overweight_Level_I', 'Obesity_Type_II',\n",
       "       'Obesity_Type_II', 'Normal_Weight', 'Obesity_Type_II',\n",
       "       'Overweight_Level_I', 'Overweight_Level_I', 'Overweight_Level_I',\n",
       "       'Insufficient_Weight', 'Obesity_Type_II', 'Insufficient_Weight',\n",
       "       'Normal_Weight', 'Obesity_Type_II', 'Obesity_Type_II',\n",
       "       'Obesity_Type_II', 'Normal_Weight', 'Overweight_Level_I',\n",
       "       'Obesity_Type_II', 'Obesity_Type_II', 'Obesity_Type_II',\n",
       "       'Normal_Weight', 'Overweight_Level_I', 'Obesity_Type_II',\n",
       "       'Normal_Weight', 'Obesity_Type_II', 'Obesity_Type_II',\n",
       "       'Overweight_Level_I', 'Insufficient_Weight', 'Obesity_Type_II',\n",
       "       'Overweight_Level_I', 'Obesity_Type_II', 'Overweight_Level_I',\n",
       "       'Obesity_Type_II', 'Obesity_Type_II', 'Overweight_Level_I',\n",
       "       'Obesity_Type_II', 'Normal_Weight', 'Overweight_Level_I',\n",
       "       'Obesity_Type_II', 'Insufficient_Weight', 'Insufficient_Weight',\n",
       "       'Overweight_Level_I', 'Obesity_Type_II', 'Normal_Weight',\n",
       "       'Overweight_Level_I', 'Obesity_Type_II', 'Overweight_Level_I',\n",
       "       'Obesity_Type_II', 'Overweight_Level_I', 'Overweight_Level_I',\n",
       "       'Overweight_Level_I', 'Obesity_Type_II', 'Insufficient_Weight',\n",
       "       'Obesity_Type_II', 'Overweight_Level_I', 'Overweight_Level_I',\n",
       "       'Obesity_Type_II', 'Insufficient_Weight', 'Overweight_Level_I',\n",
       "       'Overweight_Level_I', 'Obesity_Type_II', 'Insufficient_Weight',\n",
       "       'Overweight_Level_I', 'Overweight_Level_I', 'Overweight_Level_I',\n",
       "       'Obesity_Type_II', 'Overweight_Level_I', 'Overweight_Level_I',\n",
       "       'Obesity_Type_II', 'Overweight_Level_I', 'Insufficient_Weight',\n",
       "       'Overweight_Level_I', 'Overweight_Level_I', 'Overweight_Level_I',\n",
       "       'Obesity_Type_II', 'Obesity_Type_II', 'Overweight_Level_I',\n",
       "       'Overweight_Level_I', 'Overweight_Level_I', 'Insufficient_Weight',\n",
       "       'Obesity_Type_II', 'Overweight_Level_I', 'Overweight_Level_I',\n",
       "       'Overweight_Level_I', 'Overweight_Level_I', 'Overweight_Level_I',\n",
       "       'Obesity_Type_II', 'Overweight_Level_I', 'Overweight_Level_I',\n",
       "       'Insufficient_Weight', 'Overweight_Level_I', 'Normal_Weight',\n",
       "       'Overweight_Level_I', 'Overweight_Level_I', 'Overweight_Level_I',\n",
       "       'Obesity_Type_II', 'Overweight_Level_I', 'Normal_Weight',\n",
       "       'Overweight_Level_I', 'Overweight_Level_I', 'Obesity_Type_II',\n",
       "       'Obesity_Type_II', 'Obesity_Type_II', 'Overweight_Level_I',\n",
       "       'Insufficient_Weight', 'Overweight_Level_I', 'Normal_Weight',\n",
       "       'Overweight_Level_I', 'Overweight_Level_I', 'Obesity_Type_II',\n",
       "       'Obesity_Type_II', 'Insufficient_Weight', 'Insufficient_Weight',\n",
       "       'Overweight_Level_I', 'Insufficient_Weight', 'Obesity_Type_II',\n",
       "       'Overweight_Level_I', 'Obesity_Type_II', 'Obesity_Type_II',\n",
       "       'Obesity_Type_II', 'Overweight_Level_I', 'Insufficient_Weight',\n",
       "       'Obesity_Type_II', 'Overweight_Level_I', 'Overweight_Level_I',\n",
       "       'Overweight_Level_I', 'Obesity_Type_II', 'Overweight_Level_I',\n",
       "       'Obesity_Type_II', 'Insufficient_Weight', 'Obesity_Type_II',\n",
       "       'Overweight_Level_I', 'Overweight_Level_I', 'Insufficient_Weight',\n",
       "       'Obesity_Type_II', 'Obesity_Type_II', 'Obesity_Type_III',\n",
       "       'Obesity_Type_II', 'Normal_Weight', 'Obesity_Type_II',\n",
       "       'Obesity_Type_II', 'Insufficient_Weight', 'Overweight_Level_I',\n",
       "       'Obesity_Type_II', 'Insufficient_Weight', 'Overweight_Level_I',\n",
       "       'Normal_Weight', 'Overweight_Level_I', 'Overweight_Level_I',\n",
       "       'Insufficient_Weight', 'Obesity_Type_II', 'Overweight_Level_I',\n",
       "       'Overweight_Level_I', 'Overweight_Level_I', 'Insufficient_Weight',\n",
       "       'Insufficient_Weight', 'Overweight_Level_I', 'Overweight_Level_I',\n",
       "       'Overweight_Level_I', 'Overweight_Level_I', 'Overweight_Level_I',\n",
       "       'Overweight_Level_I', 'Obesity_Type_II', 'Obesity_Type_II',\n",
       "       'Overweight_Level_I', 'Overweight_Level_I', 'Obesity_Type_II',\n",
       "       'Overweight_Level_I', 'Normal_Weight', 'Overweight_Level_I',\n",
       "       'Obesity_Type_II', 'Normal_Weight', 'Insufficient_Weight',\n",
       "       'Obesity_Type_II', 'Insufficient_Weight', 'Overweight_Level_I',\n",
       "       'Overweight_Level_I', 'Obesity_Type_II', 'Obesity_Type_II',\n",
       "       'Overweight_Level_I', 'Obesity_Type_II', 'Obesity_Type_II',\n",
       "       'Overweight_Level_I', 'Overweight_Level_I', 'Overweight_Level_I',\n",
       "       'Obesity_Type_II', 'Overweight_Level_I', 'Obesity_Type_II',\n",
       "       'Obesity_Type_II', 'Overweight_Level_I', 'Overweight_Level_I',\n",
       "       'Obesity_Type_II', 'Obesity_Type_II', 'Overweight_Level_I',\n",
       "       'Overweight_Level_I', 'Obesity_Type_II', 'Overweight_Level_I',\n",
       "       'Overweight_Level_I', 'Insufficient_Weight', 'Obesity_Type_II',\n",
       "       'Overweight_Level_I', 'Insufficient_Weight', 'Overweight_Level_I',\n",
       "       'Overweight_Level_I', 'Insufficient_Weight', 'Overweight_Level_I',\n",
       "       'Overweight_Level_I', 'Overweight_Level_I', 'Overweight_Level_I',\n",
       "       'Overweight_Level_I', 'Obesity_Type_II', 'Overweight_Level_I',\n",
       "       'Insufficient_Weight', 'Overweight_Level_I', 'Normal_Weight',\n",
       "       'Insufficient_Weight', 'Overweight_Level_I', 'Overweight_Level_I',\n",
       "       'Insufficient_Weight', 'Obesity_Type_II', 'Obesity_Type_II',\n",
       "       'Overweight_Level_I', 'Obesity_Type_II', 'Obesity_Type_II',\n",
       "       'Obesity_Type_II', 'Overweight_Level_I', 'Overweight_Level_I',\n",
       "       'Obesity_Type_II', 'Overweight_Level_I', 'Overweight_Level_I',\n",
       "       'Overweight_Level_I', 'Obesity_Type_II', 'Overweight_Level_I',\n",
       "       'Overweight_Level_I', 'Overweight_Level_I', 'Overweight_Level_I',\n",
       "       'Overweight_Level_I', 'Obesity_Type_II', 'Obesity_Type_II',\n",
       "       'Obesity_Type_II'], dtype=object)"
      ]
     },
     "execution_count": 79,
     "metadata": {},
     "output_type": "execute_result"
    }
   ],
   "source": [
    "%%time\n",
    "from sklearn.model_selection import cross_val_score\n",
    "from sklearn.ensemble import AdaBoostClassifier\n",
    "clfa = clfa = AdaBoostClassifier(n_estimators = 5)\n",
    "clfa.fit(X_train, Y_train).predict(X_test)"
   ]
  },
  {
   "cell_type": "code",
   "execution_count": 80,
   "metadata": {},
   "outputs": [
    {
     "name": "stdout",
     "output_type": "stream",
     "text": [
      "0.3606645395251093\n",
      "0.06014033465680038\n"
     ]
    }
   ],
   "source": [
    "acc_clfa = cross_val_score(clfa, X_test, Y_test, cv=3, scoring = 'accuracy')\n",
    "acc_clfa\n",
    "print(acc_clfa.mean())\n",
    "print(acc_clfa.std())"
   ]
  },
  {
   "cell_type": "code",
   "execution_count": 81,
   "metadata": {},
   "outputs": [
    {
     "name": "stdout",
     "output_type": "stream",
     "text": [
      "0.21293904593632207\n",
      "0.06974747148064153\n"
     ]
    },
    {
     "name": "stderr",
     "output_type": "stream",
     "text": [
      "C:\\ProgramData\\Anaconda3\\lib\\site-packages\\sklearn\\metrics\\classification.py:1437: UndefinedMetricWarning: Precision is ill-defined and being set to 0.0 in labels with no predicted samples.\n",
      "  'precision', 'predicted', average, warn_for)\n",
      "C:\\ProgramData\\Anaconda3\\lib\\site-packages\\sklearn\\metrics\\classification.py:1437: UndefinedMetricWarning: Precision is ill-defined and being set to 0.0 in labels with no predicted samples.\n",
      "  'precision', 'predicted', average, warn_for)\n",
      "C:\\ProgramData\\Anaconda3\\lib\\site-packages\\sklearn\\metrics\\classification.py:1437: UndefinedMetricWarning: Precision is ill-defined and being set to 0.0 in labels with no predicted samples.\n",
      "  'precision', 'predicted', average, warn_for)\n"
     ]
    }
   ],
   "source": [
    "precision_clfa = cross_val_score(clfa, X_test, Y_test, cv=3, scoring = 'precision_macro')\n",
    "precision_clfa\n",
    "print(precision_clfa.mean())\n",
    "print(precision_clfa.std())"
   ]
  },
  {
   "cell_type": "code",
   "execution_count": 82,
   "metadata": {},
   "outputs": [
    {
     "name": "stdout",
     "output_type": "stream",
     "text": [
      "0.3636954024033856\n",
      "0.06117999684898062\n"
     ]
    }
   ],
   "source": [
    "recall_clfa = cross_val_score(clfa, X_test, Y_test, cv=3, scoring = 'recall_macro')\n",
    "recall_clfa\n",
    "print(recall_clfa.mean())\n",
    "print(recall_clfa.std())"
   ]
  },
  {
   "cell_type": "code",
   "execution_count": 83,
   "metadata": {},
   "outputs": [
    {
     "name": "stdout",
     "output_type": "stream",
     "text": [
      "0.22746550709910318\n",
      "0.05783094232754037\n"
     ]
    },
    {
     "name": "stderr",
     "output_type": "stream",
     "text": [
      "C:\\ProgramData\\Anaconda3\\lib\\site-packages\\sklearn\\metrics\\classification.py:1437: UndefinedMetricWarning: F-score is ill-defined and being set to 0.0 in labels with no predicted samples.\n",
      "  'precision', 'predicted', average, warn_for)\n",
      "C:\\ProgramData\\Anaconda3\\lib\\site-packages\\sklearn\\metrics\\classification.py:1437: UndefinedMetricWarning: F-score is ill-defined and being set to 0.0 in labels with no predicted samples.\n",
      "  'precision', 'predicted', average, warn_for)\n",
      "C:\\ProgramData\\Anaconda3\\lib\\site-packages\\sklearn\\metrics\\classification.py:1437: UndefinedMetricWarning: F-score is ill-defined and being set to 0.0 in labels with no predicted samples.\n",
      "  'precision', 'predicted', average, warn_for)\n"
     ]
    }
   ],
   "source": [
    "f1_clfa = cross_val_score(clfa, X_test, Y_test, cv=3, scoring = 'f1_macro')\n",
    "f1_clfa\n",
    "print(f1_clfa.mean())\n",
    "print(f1_clfa.std())"
   ]
  },
  {
   "cell_type": "markdown",
   "metadata": {},
   "source": [
    "### Compare Algorithms"
   ]
  },
  {
   "cell_type": "code",
   "execution_count": 84,
   "metadata": {},
   "outputs": [],
   "source": [
    "import pandas\n",
    "import matplotlib.pyplot as plt\n",
    "from sklearn import model_selection\n",
    "from sklearn.linear_model import LogisticRegression\n",
    "from sklearn.tree import DecisionTreeClassifier\n",
    "from sklearn.neighbors import KNeighborsClassifier\n",
    "from sklearn.discriminant_analysis import LinearDiscriminantAnalysis\n",
    "from sklearn.naive_bayes import GaussianNB\n",
    "from sklearn.svm import SVC\n",
    "#prepare configuration for cross validation test harness\n",
    "seed = 7\n",
    "#prepare models\n",
    "models = []\n",
    "models.append(('1NN', KNeighborsClassifier(n_neighbors = 1)))\n",
    "models.append(('3NN', KNeighborsClassifier(n_neighbors = 3)))\n",
    "models.append(('5NN', KNeighborsClassifier(n_neighbors = 5)))\n",
    "models.append(('CART', DecisionTreeClassifier(criterion = 'gini')))\n",
    "models.append(('InfGain', DecisionTreeClassifier(criterion = 'entropy')))\n",
    "models.append(('NB', GaussianNB()))\n",
    "models.append(('RBF', SVC(kernel='rbf')))\n",
    "models.append(('Poly', SVC(kernel='poly')))\n",
    "models.append(('Sig', SVC(kernel='sigmoid')))\n",
    "models.append(('AB', AdaBoostClassifier(n_estimators=5)))\n",
    "# evaluate each model in turn\n",
    "results = []\n",
    "names = []\n",
    "scoring = 'accuracy'"
   ]
  },
  {
   "cell_type": "code",
   "execution_count": 85,
   "metadata": {},
   "outputs": [
    {
     "name": "stdout",
     "output_type": "stream",
     "text": [
      "1NN: 0.738506 (0.011313)\n",
      "3NN: 0.691092 (0.020622)\n",
      "5NN: 0.686782 (0.020622)\n",
      "CART: 0.811782 (0.005376)\n",
      "InfGain: 0.820402 (0.008128)\n",
      "NB: 0.435345 (0.058150)\n",
      "RBF: 0.758621 (0.009311)\n",
      "Poly: 0.689655 (0.024636)\n",
      "Sig: 0.606322 (0.015870)\n",
      "AB: 0.350575 (0.077931)\n"
     ]
    },
    {
     "name": "stderr",
     "output_type": "stream",
     "text": [
      "C:\\ProgramData\\Anaconda3\\lib\\site-packages\\sklearn\\svm\\base.py:193: FutureWarning: The default value of gamma will change from 'auto' to 'scale' in version 0.22 to account better for unscaled features. Set gamma explicitly to 'auto' or 'scale' to avoid this warning.\n",
      "  \"avoid this warning.\", FutureWarning)\n",
      "C:\\ProgramData\\Anaconda3\\lib\\site-packages\\sklearn\\svm\\base.py:193: FutureWarning: The default value of gamma will change from 'auto' to 'scale' in version 0.22 to account better for unscaled features. Set gamma explicitly to 'auto' or 'scale' to avoid this warning.\n",
      "  \"avoid this warning.\", FutureWarning)\n",
      "C:\\ProgramData\\Anaconda3\\lib\\site-packages\\sklearn\\svm\\base.py:193: FutureWarning: The default value of gamma will change from 'auto' to 'scale' in version 0.22 to account better for unscaled features. Set gamma explicitly to 'auto' or 'scale' to avoid this warning.\n",
      "  \"avoid this warning.\", FutureWarning)\n",
      "C:\\ProgramData\\Anaconda3\\lib\\site-packages\\sklearn\\svm\\base.py:193: FutureWarning: The default value of gamma will change from 'auto' to 'scale' in version 0.22 to account better for unscaled features. Set gamma explicitly to 'auto' or 'scale' to avoid this warning.\n",
      "  \"avoid this warning.\", FutureWarning)\n",
      "C:\\ProgramData\\Anaconda3\\lib\\site-packages\\sklearn\\svm\\base.py:193: FutureWarning: The default value of gamma will change from 'auto' to 'scale' in version 0.22 to account better for unscaled features. Set gamma explicitly to 'auto' or 'scale' to avoid this warning.\n",
      "  \"avoid this warning.\", FutureWarning)\n",
      "C:\\ProgramData\\Anaconda3\\lib\\site-packages\\sklearn\\svm\\base.py:193: FutureWarning: The default value of gamma will change from 'auto' to 'scale' in version 0.22 to account better for unscaled features. Set gamma explicitly to 'auto' or 'scale' to avoid this warning.\n",
      "  \"avoid this warning.\", FutureWarning)\n",
      "C:\\ProgramData\\Anaconda3\\lib\\site-packages\\sklearn\\svm\\base.py:193: FutureWarning: The default value of gamma will change from 'auto' to 'scale' in version 0.22 to account better for unscaled features. Set gamma explicitly to 'auto' or 'scale' to avoid this warning.\n",
      "  \"avoid this warning.\", FutureWarning)\n",
      "C:\\ProgramData\\Anaconda3\\lib\\site-packages\\sklearn\\svm\\base.py:193: FutureWarning: The default value of gamma will change from 'auto' to 'scale' in version 0.22 to account better for unscaled features. Set gamma explicitly to 'auto' or 'scale' to avoid this warning.\n",
      "  \"avoid this warning.\", FutureWarning)\n",
      "C:\\ProgramData\\Anaconda3\\lib\\site-packages\\sklearn\\svm\\base.py:193: FutureWarning: The default value of gamma will change from 'auto' to 'scale' in version 0.22 to account better for unscaled features. Set gamma explicitly to 'auto' or 'scale' to avoid this warning.\n",
      "  \"avoid this warning.\", FutureWarning)\n"
     ]
    }
   ],
   "source": [
    "for name, model in models:\n",
    "    kfold = model_selection.KFold(n_splits=3, random_state=seed)\n",
    "    cv_results = model_selection.cross_val_score(model, X_test, Y_test, cv=kfold, scoring=scoring)\n",
    "    results.append(cv_results)\n",
    "    names.append(name)\n",
    "    msg = \"%s: %f (%f)\" % (name, cv_results.mean(), cv_results.std())\n",
    "    print(msg)"
   ]
  },
  {
   "cell_type": "code",
   "execution_count": 86,
   "metadata": {},
   "outputs": [
    {
     "data": {
      "image/png": "[encoded data removed]",
      "text/plain": [
       "<Figure size 432x288 with 1 Axes>"
      ]
     },
     "metadata": {
      "needs_background": "light"
     },
     "output_type": "display_data"
    }
   ],
   "source": [
    "fig = plt.figure()\n",
    "fig.suptitle('Algorithm Comparison')\n",
    "ax = fig.add_subplot(111)\n",
    "plt.boxplot(results)\n",
    "ax.set_xticklabels(names)\n",
    "plt.show()"
   ]
  },
  {
   "cell_type": "code",
   "execution_count": null,
   "metadata": {},
   "outputs": [],
   "source": []
  }
 ],
 "metadata": {
  "kernelspec": {
   "display_name": "Python 3",
   "language": "python",
   "name": "python3"
  },
  "language_info": {
   "codemirror_mode": {
    "name": "ipython",
    "version": 3
   },
   "file_extension": ".py",
   "mimetype": "text/x-python",
   "name": "python",
   "nbconvert_exporter": "python",
   "pygments_lexer": "ipython3",
   "version": "3.7.4"
  }
 },
 "nbformat": 4,
 "nbformat_minor": 2
}
